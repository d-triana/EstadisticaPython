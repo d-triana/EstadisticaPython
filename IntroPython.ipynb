{
  "nbformat": 4,
  "nbformat_minor": 0,
  "metadata": {
    "colab": {
      "name": "IntroPython.ipynb",
      "provenance": [],
      "collapsed_sections": [
        "A4dOkHSoRm14",
        "VbzsFopKlpg6",
        "Xo8rrXY7Cms2",
        "au2aX3uUm5tt"
      ],
      "toc_visible": true
    },
    "kernelspec": {
      "name": "python3",
      "display_name": "Python 3"
    },
    "language_info": {
      "name": "python"
    }
  },
  "cells": [
    {
      "cell_type": "markdown",
      "source": [
        "# 1. Introducción a Python\n",
        "\n",
        "Python es uno de los lenguajes de programación más utilizados a nivel mundial- Fue creado por el programados holandés Guido van Rossum en 1991.\n",
        "Es un lenguaje muy utilizado en ciencias debido a que es fácil de leer y posee una gran cantidad de módulos y librerías. Existe una gran cantidad de paquetes optimizados para el análisis numérico y estadístico -NumPy. sklearn, Scipy-, visualización de datos (gráficas) -Matplotlib-, manejo de tablas -Pandas, Seaborn- o aprendizaje de máquinas-Pytorch, Tensorflow-, entre muchas otras funcionalidades que se pueden añadir.\n",
        "\n",
        "## Herramientas de análisis de datos/estadística:\n",
        "Estas herramientas nos proporcionan el marco adecuado para diseñar, personalizar e implementar cualquier análisis estadístico que podamos necesitar.\n",
        "También nos permiten llevar a cabo una gran cantidad de pruebas estadísticas ya sean paramétricas o no paramétricas. Como parte de estas herramientas vamos a encontrar paquetería como NumPy, sklearn, Scipy.\n",
        "\n",
        "## Herramientas para visualización de datos:\n",
        "El paquete más utilizada para visualización de datos en Python es Matplotlib, la cual nos permite realizar una gran cantidad de visualizaciones personalizadas de 2 a 4 dimensiones. Con esta herramienta tenemos control conpleto del formato de las gráficas, los ejes, colores y prácticamente cualquier elemento de vsualización que queramos incorporar dentro de nuestras gráficas.\n",
        "\n",
        "## ¿Nuevo en Python?\n",
        "La mayoría de los estudiantes son nuevos en Python, los problemas más comunes a los que nos podemos enfrentar cuando comenzamos son los siguientes:\n",
        "1. No sé cómo instalar en poner a punto un ambiente de Python funcional.\n",
        "2. No sé cómo encontrar soluciones a los problemas de instalación y funcionamiento que pueden surgir.\n",
        "3. No sé cómo colaborar con otras personas (código colaborativo).\n",
        "4. No sé cómo manejar control de versiones para que mi código no sea un caos.\n",
        "\n",
        "Para resolver estos problemas, se recomienda la instalación de Anaconda en tu computadora www.anaconda.com\n",
        "![picture](https://drive.google.com/uc?export=view&id=16q99xEdItqodkqBvmVXJsPiUxRLWK2MM)\n",
        "\n",
        "La instalación de Anaconda te permitirá tener un ambiente funcional para Python, incluyendo los paquetes básicas para realizar Ciencia de Datos, en una sola instalación. También te permitirá tener acceso a los IDE más populares como Spyder, Jupyter, VS Code, PyCharm, entre muchas otras.\n",
        "\n",
        "##Para instalar paquetes de Python se pueden usar los siguientes comandos:\n",
        "conda install \"nombre del paquete a instalar\" -Si se está trabajando en ambiente Anaconda-.\n",
        "pip install \"nombre del paquete a instalar\" -Para cualquier ambiente de trabajo-.\n",
        "Ejemplo:\n",
        "`pip install pandas`\n",
        "\n",
        "\n"
      ],
      "metadata": {
        "id": "A4dOkHSoRm14"
      }
    },
    {
      "cell_type": "markdown",
      "source": [
        "# 2. Variables y expresiones\n",
        "Las variables nos servirán para resolver ecuaciones. En Python también sirven para almacenar un valor dentro de un nombre particular.\n",
        "Los nombres de las variables pueden guardados permanentemente para realizar cálculos posteriores.\n",
        "variable = expresión\n",
        "Las expresiones creadas por el usuario son interpretadas y evaluadas por Python.\n",
        "Nota: Hay que tener cuidado con el nombre de las variables ya que Python distingue entre mayúsculas y minúsculas.\n",
        "\n",
        "## ¿Cómo puedo obtener ayuda sobre el manejo de un paquete en particular?\n",
        "Existe una gran cantidad de recursos en línea. La documentación e instrucciones para usar los paquetes básicos se pueden consultar en:\n",
        "* NumPy: https://numpy.org/\n",
        "* SciPy: https://www.scipy.org/scipylib/index.html \n",
        "* Pandas: https://pandas.pydata.org\n",
        "* Scikit-learn: https://scikit-learn.org/stable/\n",
        "* Un recurso útil para resolver dudas sobre cualquier problema relacionado con pregramación es: https://stackoverflow.co/\n"
      ],
      "metadata": {
        "id": "VbzsFopKlpg6"
      }
    },
    {
      "cell_type": "markdown",
      "source": [
        "# 3. Listas\n",
        "Podemos crear una lista en Python al colocar elementos dentro de paréntesis cuadrados [], cada elemento debe estar separado por comas.\n"
      ],
      "metadata": {
        "id": "icSNGgl6l6mw"
      }
    },
    {
      "cell_type": "code",
      "source": [
        "# Crear una lista vacía\n",
        "mi_lista = []\n",
        "# lista de números enteros\n",
        "mi_lista = [1, 2, 3, 4, 5]\n",
        "# Podemos crear una lista mezclada con valore numericos y strings\n",
        "mi_lista = [1, \"Hola\", 4.8] \n",
        "# También podemos crear listas anidadas dentro de otras litas\n",
        "mi_lista = [1, [2, 3, \"Hola\"], 4.8, \"adios\"]"
      ],
      "metadata": {
        "colab": {
          "base_uri": "https://localhost:8080/"
        },
        "id": "FkAzxhWSnJVM",
        "outputId": "1584f3b4-ca0e-4a47-a5eb-f64456eca488"
      },
      "execution_count": null,
      "outputs": [
        {
          "output_type": "stream",
          "name": "stdout",
          "text": [
            "[1, [2, 3, 'Hola'], 4.8, 'adios']\n"
          ]
        }
      ]
    },
    {
      "cell_type": "markdown",
      "source": [
        "## ¿Cómo podemos acceder a un elemento dentro de la lista?\n",
        "Hay varias formas de acceder a los elementos dentro de una lista:\n",
        "\n",
        "\n",
        "\n",
        "* Podemos crear un índice para la lista.\n",
        " - Los índices en Python comienzan a partir del 0.\n",
        " - Si tenemos una lista de 5 elementos, tendremos un índice que va de 0 a 4.\n",
        " - Elemento de lista\n",
        " - Si tratamos de acceder a un elemento de la lista fuera del rango 0-4, Python \n",
        "regresará un IndexError.\n",
        " - El índice debe ser un número entero, no podemos usar \"floats\" (decimales) o \"strings\" (alfanuméricas).\n",
        " - Para acceder a una lista anidada se requiere un índice anidado.\n",
        " ![pyindex.jpg](data:image/jpeg;base64,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)"
      ],
      "metadata": {
        "id": "FYzqqd6poqOY"
      }
    },
    {
      "cell_type": "code",
      "source": [
        "# Definimos una lista con cada una de las letras de la palabra \"probe\"\n",
        "mi_lista = ['p', 'r', 'o', 'b', 'e']\n",
        "# Para obtener el elemento 'p' a traves de un índice:\n",
        "print(mi_lista[0])\n",
        "# Para obtener el elemento \"o\" a través de un índice:\n",
        "print(mi_lista[2])\n",
        "# Del elemento \"o\" en adelante (hasta donde termine la lista):\n",
        "print(mi_lista[2:])\n",
        "# Solo el último elemento\n",
        "print(mi_lista[4])"
      ],
      "metadata": {
        "id": "mhGzdWvmonXj",
        "colab": {
          "base_uri": "https://localhost:8080/"
        },
        "outputId": "45e492e7-4c10-4445-d596-4affa0c8eec8"
      },
      "execution_count": 3,
      "outputs": [
        {
          "output_type": "stream",
          "name": "stdout",
          "text": [
            "p\n",
            "o\n",
            "['o', 'b', 'e']\n",
            "e\n"
          ]
        }
      ]
    },
    {
      "cell_type": "markdown",
      "source": [
        "Los índices negativos en Python permiten encontrar elementos dentro de una lista de atrás hacia adelante. El elemento -1 se refiere al último elemento dentro de la lista, mientras que el elemento -2 se refiere al segundo de atrás hacia adelante."
      ],
      "metadata": {
        "id": "RGi5iyuc2Dok"
      }
    },
    {
      "cell_type": "code",
      "source": [
        "# Obtener el elemento \"e\"\n",
        "print(mi_lista[-1])\n",
        "# Obtener el elemento \"p\"\n",
        "print(mi_lista[-5])\n",
        "# Obtener todos los elementos excepto el ultimo.\n",
        "print(mi_lista[:-1])"
      ],
      "metadata": {
        "colab": {
          "base_uri": "https://localhost:8080/"
        },
        "id": "X-sEpwhg4LEU",
        "outputId": "2f6769f0-09f9-401c-cda8-9c81531c53c3"
      },
      "execution_count": 4,
      "outputs": [
        {
          "output_type": "stream",
          "name": "stdout",
          "text": [
            "e\n",
            "p\n",
            "['p', 'r', 'o', 'b']\n"
          ]
        }
      ]
    },
    {
      "cell_type": "markdown",
      "source": [
        "También se puede usar esta técnica para listas anidadas:"
      ],
      "metadata": {
        "id": "78WA2PGD5Ozw"
      }
    },
    {
      "cell_type": "code",
      "source": [
        "# Creamos una lista anidada\n",
        "n_lista = [mi_lista, [1, 2, 3]]\n",
        "# Obtener la letra \"r\" de mi_lista. Primero le indicamos a Python que queremos usar el elemento 0 de n_lista y en seguida le indicamos que queremos el elemento 1 de esa misma lista.\n",
        "print(n_lista[0][1])\n",
        "# Obtener el número 3 de n_lista:\n",
        "print(n_lista[1][-1])"
      ],
      "metadata": {
        "colab": {
          "base_uri": "https://localhost:8080/"
        },
        "id": "m9bdPMx-5V9u",
        "outputId": "3001a310-e308-464b-b708-43e52fb83773"
      },
      "execution_count": 7,
      "outputs": [
        {
          "output_type": "stream",
          "name": "stdout",
          "text": [
            "r\n",
            "3\n"
          ]
        }
      ]
    },
    {
      "cell_type": "markdown",
      "source": [
        "Las listas son mutables, lo que siginifica que los elementos dentro de ella pueden cambiar cuando queramos. Esta es la principal diferencia entre las listas y las tuplas (tuple).\n",
        "Podemos usar el operador (=) un elemento o un rango de elementos dentro de la lista.\n",
        "También podemos agregar elementos a las listas usando el método *append* y *extend*."
      ],
      "metadata": {
        "id": "C7P5WAfG7sms"
      }
    },
    {
      "cell_type": "code",
      "source": [
        "# Creamos una lista con valores\n",
        "impares = [2, 4, 6, 8]\n",
        "print(impares)\n",
        "# Podemos cambiar el primer valor de la lista\n",
        "impares[0] = 1\n",
        "print(impares)\n",
        "# Podemos cambiar todo un rango de elementos en la lista\n",
        "impares[1:] = [3, 5, 7]\n",
        "print(impares)\n",
        "# Podemos agregar elementos al final de la lista\n",
        "impares.append(9)\n",
        "print(impares)\n",
        "# También se puede usar el método extend\n",
        "impares.extend([11, 13, 15])\n",
        "print(impares)"
      ],
      "metadata": {
        "colab": {
          "base_uri": "https://localhost:8080/"
        },
        "id": "JZvRy-5L6M0i",
        "outputId": "808c4d1e-2736-4774-b47f-1864e2e93bc4"
      },
      "execution_count": 10,
      "outputs": [
        {
          "output_type": "stream",
          "name": "stdout",
          "text": [
            "[2, 4, 6, 8]\n",
            "[1, 4, 6, 8]\n",
            "[1, 3, 5, 7]\n",
            "[1, 3, 5, 7, 9]\n",
            "[1, 3, 5, 7, 9, 11, 13, 15]\n"
          ]
        }
      ]
    },
    {
      "cell_type": "markdown",
      "source": [
        "Se puede utilizar el operador (+) para combinar dos o más listas - concatenación -. El operador (*) repite una lista por le número de veces deseado."
      ],
      "metadata": {
        "id": "V4_tfTp5-j4z"
      }
    },
    {
      "cell_type": "code",
      "source": [
        "impares = impares + [17, 19, 21]\n",
        "print(impares)\n",
        "# Si queremos repetir la lista 2 veces podemos usar (*)\n",
        "impares = impares * 2\n",
        "print(impares)"
      ],
      "metadata": {
        "colab": {
          "base_uri": "https://localhost:8080/"
        },
        "id": "PX2rtyAO_Dpu",
        "outputId": "780aa74e-2976-45da-a8f7-54e35d2bc431"
      },
      "execution_count": 12,
      "outputs": [
        {
          "output_type": "stream",
          "name": "stdout",
          "text": [
            "[1, 3, 5, 7, 9, 11, 13, 15, 17, 19, 21, 17, 19, 21]\n",
            "[1, 3, 5, 7, 9, 11, 13, 15, 17, 19, 21, 17, 19, 21, 1, 3, 5, 7, 9, 11, 13, 15, 17, 19, 21, 17, 19, 21]\n"
          ]
        }
      ]
    },
    {
      "cell_type": "markdown",
      "source": [
        "Si deseamos incorporar uno o más elementos a la lista en una posición específica, podemos usar el método insert()."
      ],
      "metadata": {
        "id": "vFyIZQbm_xbb"
      }
    },
    {
      "cell_type": "code",
      "source": [
        "impares = [1, 7, 11]\n",
        "# Primero especificamos el lugar de la lista que queremos que se ocupe, seguido del elemento que deseamos insertar\n",
        "impares.insert(2, 9)\n",
        "print(impares)\n",
        "# Para insertar un rango de elementos dentro de una posición específica.\n",
        "impares[1:1] = [3, 5]\n",
        "print(impares)"
      ],
      "metadata": {
        "colab": {
          "base_uri": "https://localhost:8080/"
        },
        "id": "gmQ1CwKsAjk3",
        "outputId": "38a767d4-54fd-45f1-8eed-a0b2be94bef9"
      },
      "execution_count": 25,
      "outputs": [
        {
          "output_type": "stream",
          "name": "stdout",
          "text": [
            "[1, 7, 9, 11]\n",
            "[1, 3, 5, 7, 9, 11]\n"
          ]
        }
      ]
    },
    {
      "cell_type": "markdown",
      "source": [
        "Si queremos quitar un elemento de la lista podemos usar el método *remove()* o *pop()*"
      ],
      "metadata": {
        "id": "rdXml3HRFtd6"
      }
    },
    {
      "cell_type": "code",
      "source": [
        "impares = [1, 3, 5, 7, 9, 11]\n",
        "# Para quitar un número específico\n",
        "impares.remove(11)\n",
        "print(impares)\n",
        "# Para quitar un número con base en su índice\n",
        "impares.pop(1)\n",
        "print(impares)"
      ],
      "metadata": {
        "colab": {
          "base_uri": "https://localhost:8080/"
        },
        "id": "ZGskDYi8F8ZB",
        "outputId": "0215a865-c481-414e-e3f5-64aaae03af46"
      },
      "execution_count": 31,
      "outputs": [
        {
          "output_type": "stream",
          "name": "stdout",
          "text": [
            "[1, 3, 5, 7, 9]\n",
            "[1, 5, 7, 9]\n"
          ]
        }
      ]
    },
    {
      "cell_type": "markdown",
      "source": [
        "Para contar el número de elementos dentro de una lista usamos el método *count()*. Para ordenar la lista de forma ascendente usamos el método *sort()*, en orden inverso usamos el método *reverse()*."
      ],
      "metadata": {
        "id": "h7133y_tHiWC"
      }
    },
    {
      "cell_type": "code",
      "source": [
        "impares = [1, 3, 7, 5, 5, 9, 7, 11]\n",
        "# El número 5 aparece dos veces dentro de la lista.\n",
        "impares.count(5)\n",
        "# Ordenamos la lista de forma ascendente.\n",
        "impares.sort()\n",
        "print(impares)\n",
        "# Para ordenar la lista en orden descendente.\n",
        "impares.reverse()\n",
        "print(impares)"
      ],
      "metadata": {
        "colab": {
          "base_uri": "https://localhost:8080/"
        },
        "id": "pPM13G0ZHvo6",
        "outputId": "7c30f6e3-fb48-44c7-9640-8457bbb7d573"
      },
      "execution_count": 33,
      "outputs": [
        {
          "output_type": "stream",
          "name": "stdout",
          "text": [
            "[1, 3, 5, 5, 7, 7, 9, 11]\n",
            "[11, 9, 7, 7, 5, 5, 3, 1]\n"
          ]
        }
      ]
    },
    {
      "cell_type": "markdown",
      "source": [
        "--------------------------------------------------------------------------------\n",
        "\n",
        "## Métodos que podemos usar con una lista de Python:\n",
        "- **append()**: Añade un elemento al final de la lista.\n",
        "- **extend()**: Añade todos los elementos de una lista a otra lista.\n",
        "- **insert()**: Añade un elemento dentro de una posición (índice) determinada.\n",
        "- **remove()**: Elimina un elemento de la lista.\n",
        "- **pop()**: Remueve y devuelve un elemento a una posición determinada.\n",
        "- **clear()**: Remueve todos los elementos dentro de una lista.\n",
        "- **index()**: Devuelve el elemento que corresponda con la posición (índice) indicada.\n",
        "- **count()**: Devuelve el número de veces que un elemento aprece dentro de la lista.\n",
        "- **sort()**: Ordena los elementos de la lista de forma ascendente.\n",
        "- **reverse()**: Revierte el orden de los elementos en la lista.\n",
        "- **copy()**: Devuelve una copia de la lista.\n",
        "\n",
        "\n",
        "--------------------------------------------------------------------------------"
      ],
      "metadata": {
        "id": "Xo8rrXY7Cms2"
      }
    },
    {
      "cell_type": "markdown",
      "source": [
        "# Python Array (matrices)\n",
        "Para crear y trabajar con arrays en Python necesitamos utilizar el paquete NumPy, el cual contiene un módulo específico para estos objetos. &nbsp;\n",
        "\n",
        "Todos los elementos de un array deben ser de tipo numérico.\n",
        "\n",
        "## Crear un array con NumPy\n",
        "Primero debemos importar el paquete NumPy. &nbsp;\n",
        "\n",
        "La forma más sencilla de crear un array en NumPy es a través de una lista de Python. Para convertir una lista de Python a un array de NumPy se debe crear el objeto *np.array()*."
      ],
      "metadata": {
        "id": "xIEZJaT3JZm-"
      }
    },
    {
      "cell_type": "code",
      "source": [
        "import numpy as np\n",
        "lista_py = [2, 4, 6]\n",
        "array = np.array(lista_py)\n",
        "print(array)"
      ],
      "metadata": {
        "colab": {
          "base_uri": "https://localhost:8080/"
        },
        "id": "SwIMEoOUMAk-",
        "outputId": "db7c9213-4833-417f-9608-c4b97bfac3e9"
      },
      "execution_count": 36,
      "outputs": [
        {
          "output_type": "stream",
          "name": "stdout",
          "text": [
            "[2 4 6]\n"
          ]
        }
      ]
    },
    {
      "cell_type": "markdown",
      "source": [
        "## Operaciones matematicas con arrays\n",
        "Podemos realizar diferentes operaciones matemáticas con arrays: suma, resta, división y multiplicación. &nbsp;\n",
        "\n",
        "La sintaxis para realizar estas operaciones es el operador que deseamos utilizar (+, -, *, /) seguido del operando."
      ],
      "metadata": {
        "id": "oP900gHZMnFG"
      }
    },
    {
      "cell_type": "code",
      "source": [
        "# Si queremos sumar 10 a cada uno de los elementos dentro de nuestro array.\n",
        "array + 10\n"
      ],
      "metadata": {
        "colab": {
          "base_uri": "https://localhost:8080/"
        },
        "id": "cCd7VCn9MhQQ",
        "outputId": "b9618a74-d7c1-4249-ba2f-b14c2ca1dd22"
      },
      "execution_count": 37,
      "outputs": [
        {
          "output_type": "execute_result",
          "data": {
            "text/plain": [
              "array([12, 14, 16])"
            ]
          },
          "metadata": {},
          "execution_count": 37
        }
      ]
    },
    {
      "cell_type": "markdown",
      "source": [
        "Podemos verificar la foma de nuestro array con el objeto *shape* precedido del nombre del array. De igual forma, podemos verificar el tipo de elementos numéricos que se encuentran dentro del array (int, float) usando *dtype*."
      ],
      "metadata": {
        "id": "WrZpyRWFN4vI"
      }
    },
    {
      "cell_type": "code",
      "source": [
        "a = np.array([2, 4.8, 6])\n",
        "print(a.shape)\n",
        "print(a.dtype)"
      ],
      "metadata": {
        "colab": {
          "base_uri": "https://localhost:8080/"
        },
        "id": "0JIguOi4Npwf",
        "outputId": "1b7cd316-9981-40aa-9a54-ad6f8e9ec6a4"
      },
      "execution_count": 39,
      "outputs": [
        {
          "output_type": "stream",
          "name": "stdout",
          "text": [
            "(3,)\n",
            "float64\n"
          ]
        }
      ]
    },
    {
      "cell_type": "markdown",
      "source": [
        "## Arrays de 2 y 3 dimensiones\n",
        "A cada array se le puedenañadir dimensiones adicionales con una coma \",\". Cada dimensión debe estar especificada con paréntesis cuadarados []."
      ],
      "metadata": {
        "id": "oHzEDoCmO1pW"
      }
    },
    {
      "cell_type": "code",
      "source": [
        "# Creamos un array de dos dimensiones.\n",
        "d = np.array([[[1, 3, 5], [2, 4, 6]], [[3.14, 8.2, 4], [4, 3, 5]]])\n",
        "# La forma del array nos indica que tenemos 2 dimensiones, cada una de 2x3.\n",
        "print(d.shape)\n",
        "print(d)"
      ],
      "metadata": {
        "colab": {
          "base_uri": "https://localhost:8080/"
        },
        "id": "Pl96aA2yOndL",
        "outputId": "653e8224-01b9-421d-9535-f61934c7ddba"
      },
      "execution_count": 48,
      "outputs": [
        {
          "output_type": "stream",
          "name": "stdout",
          "text": [
            "(2, 2, 3)\n",
            "[[[1.   3.   5.  ]\n",
            "  [2.   4.   6.  ]]\n",
            "\n",
            " [[3.14 8.2  4.  ]\n",
            "  [4.   3.   5.  ]]]\n"
          ]
        }
      ]
    },
    {
      "cell_type": "markdown",
      "source": [
        "## Matrices de ceros y unos\n",
        "Podemos crear una matriz de ceros o de unos usando el método *np.zeros* y *np.ones*, respectivamente."
      ],
      "metadata": {
        "id": "CcTnxBaRR4b5"
      }
    },
    {
      "cell_type": "code",
      "source": [
        "# Creamos una matriz de unos de 2x3\n",
        "A = np.ones((2, 3))\n",
        "# Creamos una matriz de ceros de 3x4\n",
        "B = np.zeros((3, 4))\n",
        "print(A)\n",
        "print(B)\n"
      ],
      "metadata": {
        "colab": {
          "base_uri": "https://localhost:8080/"
        },
        "id": "83N2gr0aQzls",
        "outputId": "7091e707-a6d8-4a3a-d864-4c56f336fd2d"
      },
      "execution_count": 47,
      "outputs": [
        {
          "output_type": "stream",
          "name": "stdout",
          "text": [
            "[[1. 1. 1.]\n",
            " [1. 1. 1.]]\n",
            "[[0. 0. 0. 0.]\n",
            " [0. 0. 0. 0.]\n",
            " [0. 0. 0. 0.]]\n"
          ]
        }
      ]
    },
    {
      "cell_type": "markdown",
      "source": [
        "## Cambiar la forma de los datos\n",
        "En algunas ocasiones, queremos cambiar la forma de los datos de *wide* a *long*. Para esto, podemos usar el método *reshape()*."
      ],
      "metadata": {
        "id": "MY1lHTK1S5T4"
      }
    },
    {
      "cell_type": "code",
      "source": [
        "s = np.array([(1, 2, 3), (4, 5, 6)])\n",
        "print(s)\n",
        "print(s.shape)\n",
        "s = s.reshape(3, 2)\n",
        "print(s)\n",
        "print(s.shape)"
      ],
      "metadata": {
        "colab": {
          "base_uri": "https://localhost:8080/"
        },
        "id": "UvSAFEbWSqQQ",
        "outputId": "8dcd1ef2-1a60-48b4-9249-5a2c8078337c"
      },
      "execution_count": 54,
      "outputs": [
        {
          "output_type": "stream",
          "name": "stdout",
          "text": [
            "[[1 2 3]\n",
            " [4 5 6]]\n",
            "(2, 3)\n",
            "[[1 2]\n",
            " [3 4]\n",
            " [5 6]]\n",
            "(3, 2)\n"
          ]
        }
      ]
    },
    {
      "cell_type": "markdown",
      "source": [
        "## Extraer/manipular información dentro de un array.\n",
        "Para extraer información de un array usamos los mismos métodos que para las listas de Python. &nbsp;\n",
        "\n",
        "La principal diferencia entre un array y una lista es que los arrays están diseñados para realizar operaciones con vectores, mientras que una lista de Python no permite estas operaciones. También hay que recordar que los elementos de un array deben ser numéricos, mientras que las listas pueden contener cualquier tipo de elemento. &nbsp;\n",
        "\n",
        "Si aplcamos una función o método a un array, esta función se aplicará a cada uno de los elementos dentro del array en lugar de a todo el objeto."
      ],
      "metadata": {
        "id": "JNMLsH9rWScv"
      }
    },
    {
      "cell_type": "code",
      "source": [
        "# Queremos sumar 2 a cada elemento en el Array\n",
        "f = np.array([[1, 2, 3], [4, 5, 6]])\n",
        "f_2 = f + 2\n",
        "print(\"El array es\", f_2)\n",
        "# La misma operacion para una lista indica concatenación. Si queremos sumar 2 a cada elemento de una lista debemos remplazar cada uno.\n",
        "r = [1, 2]\n",
        "r[0:] = [3, 4]\n",
        "print(r)"
      ],
      "metadata": {
        "colab": {
          "base_uri": "https://localhost:8080/"
        },
        "id": "ocB73TCUVdPU",
        "outputId": "edcb6fe8-bf96-4615-e285-8422f128d6a7"
      },
      "execution_count": 58,
      "outputs": [
        {
          "output_type": "stream",
          "name": "stdout",
          "text": [
            "El array es [[3 4 5]\n",
            " [6 7 8]]\n",
            "[3, 4]\n"
          ]
        }
      ]
    },
    {
      "cell_type": "markdown",
      "source": [
        "Si lo deseamos, podemos convertir un array en lista con el metodo *tolist()*"
      ],
      "metadata": {
        "id": "kMHjWI0pbMak"
      }
    },
    {
      "cell_type": "code",
      "source": [
        "f_2.tolist()\n",
        "print(f_2)"
      ],
      "metadata": {
        "colab": {
          "base_uri": "https://localhost:8080/"
        },
        "id": "pbXKvx23ZooZ",
        "outputId": "c0bf51c3-0843-4d16-ba0f-de9979888c07"
      },
      "execution_count": 59,
      "outputs": [
        {
          "output_type": "stream",
          "name": "stdout",
          "text": [
            "[[3 4 5]\n",
            " [6 7 8]]\n"
          ]
        }
      ]
    },
    {
      "cell_type": "markdown",
      "source": [
        "## Estadísticos con arrays\n",
        "Podemos obtener estadísticos como media, moda, max, mín, etc."
      ],
      "metadata": {
        "id": "ktWEUsN4b1Of"
      }
    },
    {
      "cell_type": "code",
      "source": [
        "f = np.array([[1, 2, 3], [4, 5, 6]])\n",
        "# Obtenemos la media, el valor max y el min\n",
        "np.mean(f)\n",
        "np.max(f)\n",
        "np.min(f)\n",
        "# Otra forma de obtener la media\n",
        "print(\"El valor de la media es\", f.mean())\n",
        "print(\"El valor maximo es\", f.max())\n",
        "print(\"El valor minimo es\", f.min())"
      ],
      "metadata": {
        "colab": {
          "base_uri": "https://localhost:8080/"
        },
        "id": "vpzEw7Hfbduu",
        "outputId": "ce7a838f-3d0d-483d-d37b-fd8664cf4fd6"
      },
      "execution_count": 64,
      "outputs": [
        {
          "output_type": "stream",
          "name": "stdout",
          "text": [
            "El valor de la media es 3.5\n",
            "El valor maximo es 6\n",
            "El valor minimo es 1\n"
          ]
        }
      ]
    },
    {
      "cell_type": "markdown",
      "source": [
        "## Cambiar la forma de arrays multidimensionales\n",
        "Cambiar la forma de un array significa cambiar el orden de los elementos dentro del array, de modo que cambia la forma de la matriz pero no el número de dimensiones."
      ],
      "metadata": {
        "id": "I3HFphhddWna"
      }
    },
    {
      "cell_type": "code",
      "source": [
        "f = np.array([[1, 2, 3], [4, 5, 6]])\n",
        "print(f)\n",
        "print(f.shape)\n",
        "# Cambiamos la forma con reshape()\n",
        "f.reshape(1, -1)\n",
        "f.flatten()\n",
        "print(f)\n",
        "print(f.shape)"
      ],
      "metadata": {
        "colab": {
          "base_uri": "https://localhost:8080/"
        },
        "id": "N5kM_ctfcYQl",
        "outputId": "6a0acdd2-bdb5-4407-9a22-d1df9b698eb0"
      },
      "execution_count": 69,
      "outputs": [
        {
          "output_type": "stream",
          "name": "stdout",
          "text": [
            "[[1 2 3]\n",
            " [4 5 6]]\n",
            "(2, 3)\n",
            "[[1 2 3]\n",
            " [4 5 6]]\n",
            "(2, 3)\n"
          ]
        }
      ]
    },
    {
      "cell_type": "markdown",
      "source": [
        "# Dataframe (Bases de datos)\n",
        "Para crear y manipular bases de datos usaremos la paquetería Pandas, por lo que el primer paso será importar el paquete con el comando \n",
        "\n",
        "```\n",
        "import pandas as pd\n",
        "```\n",
        "Las bases de datos o dataframes son formas de almacenar nuestros datos en arreglos rectangulares (tablas) para que sea más sencillo manipularlos y trabajar con ellos. Cada renglón de la tabla corresponde a una medida o valor, mientras que cada columna representa un vector que contiene datos para una variable específica. Estos datos pueden ser de cualquier tipo: numéricos, caracteres especiales, valores lógicos (booleanos), etc.\n"
      ],
      "metadata": {
        "id": "mKZ6dP0ugLbZ"
      }
    },
    {
      "cell_type": "markdown",
      "source": [
        "## Creando un Dataframe\n",
        "Crear un Dataframe es el primer paso antes de trabajar con tus datos en Python. Algunas veces se desea comenzar desde cero y en ocasiones se querrá convertir a un Dataframe de Pandas otras estructuras de datos creadas con anterioridad, como listas o arrays de NumPy.\n"
      ],
      "metadata": {
        "id": "6Lxo1OCQiFbz"
      }
    },
    {
      "cell_type": "code",
      "source": [
        "import pandas as pd\n",
        "# Creamos un array de NumPy\n",
        "data = np.array([[1, 2], [3, 4]])\n",
        "# Creamos una lista de Python para establecer el nombre de nuestras columnas\n",
        "col = [\"Col1\", \"Col2\"]\n",
        "# Definios nuestra Dataframe de Pandas como df\n",
        "df = pd.DataFrame(data=data, columns=col)\n",
        "print(df)"
      ],
      "metadata": {
        "colab": {
          "base_uri": "https://localhost:8080/"
        },
        "id": "61vA0oYqh-68",
        "outputId": "cbd1cb41-0580-47da-9d1b-3c161c568e3e"
      },
      "execution_count": 74,
      "outputs": [
        {
          "output_type": "stream",
          "name": "stdout",
          "text": [
            "   Col1  Col2\n",
            "0     1     2\n",
            "1     3     4\n"
          ]
        }
      ]
    },
    {
      "cell_type": "markdown",
      "source": [
        "## Operaciones básicas con Dataframes\n",
        "Una vez que tenemos nuestros datos como una estructura de Pandas DataFrame, podemos comenzar a manipular nuestros datos. Entre otras muchas operaciones, podemos agregar, seleccionar, borrar, renombrar, etc."
      ],
      "metadata": {
        "id": "au2aX3uUm5tt"
      }
    },
    {
      "cell_type": "markdown",
      "source": [
        "## Seleccionar un índice o una columna\n",
        "Para seleccionar algún dato o columna específica dentro de nuestro DataFrame, usaremos el comando *iloc[]*. Este comando nos permitirá localizar lo que queramos dentro de nuestro DataFrame."
      ],
      "metadata": {
        "id": "hOaMHsECnk-r"
      }
    },
    {
      "cell_type": "code",
      "source": [
        "# Especificamos que queremos obtener el segundo valor del primer renglón. Usamos índices\n",
        "print(\"Segundo valor del renglón 1 es:\", df.iloc[0][1])\n",
        "# Especificamos que queremos obtener el valor del renglón 2 de la columna 2. Usamos operador booleano\n",
        "print(\"El segundo valor de la segunda columna es:\", df.iloc[1][\"Col2\"])\n",
        "# Podemos localizar un valor específico como índice usando iat[]\n",
        "print(\"Usamos iat para encontrar el valor del renglon 2, columna 1:\", df.iat[1, 0])"
      ],
      "metadata": {
        "colab": {
          "base_uri": "https://localhost:8080/"
        },
        "id": "J2xvrhJmmOm6",
        "outputId": "eea1bebc-d06c-40ec-e43a-3e384b52f231"
      },
      "execution_count": 82,
      "outputs": [
        {
          "output_type": "stream",
          "name": "stdout",
          "text": [
            "Segundo valor del renglón 1 es: 2\n",
            "El segundo valor de la segunda columna es: 4\n",
            "Usamos iat para encontrar el valor del renglon 2, columna 1: 3\n"
          ]
        }
      ]
    },
    {
      "cell_type": "markdown",
      "source": [
        "¿Cómo podemos seleccionar solo algunos datos, columnas o índices?"
      ],
      "metadata": {
        "id": "3oQWwngCrFBt"
      }
    },
    {
      "cell_type": "code",
      "source": [
        "# Obtenemos todos los valores del DataFrame\n",
        "valores = df.values\n",
        "print(\"Estos son los valores\", valores)\n",
        "# Obtenemos los valores de las columnas del DataFrame\n",
        "columnas = df.columns.values\n",
        "print(\"Estos son los valores de las columnas:\", columnas)\n",
        "# Obtenemos el indice de los renglones\n",
        "idx = df.index.values\n",
        "print(\"Estos son los valores del índice de los renglones:\", idx)"
      ],
      "metadata": {
        "colab": {
          "base_uri": "https://localhost:8080/"
        },
        "id": "yAQt_0zgoYIy",
        "outputId": "cc9ab33f-45ff-4fad-f0a1-73f45cf0ec2a"
      },
      "execution_count": 85,
      "outputs": [
        {
          "output_type": "stream",
          "name": "stdout",
          "text": [
            "Estos son los valores [[1 2]\n",
            " [3 4]]\n",
            "Estos son los valores de las columnas: ['Col1' 'Col2']\n",
            "Estos son los valores del índice de los renglones: [0 1]\n"
          ]
        }
      ]
    },
    {
      "cell_type": "markdown",
      "source": [
        "El resto de las operaciones que se pueden hacer con listas y arrays, también se pueden realizar con DatFrames de Pandas."
      ],
      "metadata": {
        "id": "CwpHwniyszPK"
      }
    }
  ]
}