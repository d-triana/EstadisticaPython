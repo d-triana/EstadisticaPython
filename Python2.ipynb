{
  "nbformat": 4,
  "nbformat_minor": 0,
  "metadata": {
    "colab": {
      "name": "Python2.ipynb",
      "provenance": [],
      "collapsed_sections": []
    },
    "kernelspec": {
      "name": "python3",
      "display_name": "Python 3"
    },
    "language_info": {
      "name": "python"
    }
  },
  "cells": [
    {
      "cell_type": "markdown",
      "source": [
        "Autor: Daniel Triana <p>\n",
        "Fecha: mayo 2022"
      ],
      "metadata": {
        "id": "Mueg-HizfLFR"
      }
    },
    {
      "cell_type": "markdown",
      "source": [
        "# Python 2\n",
        "### - Loops\n",
        "### - Iteraciones\n",
        "### - Condicionales\n",
        "### - Funciones"
      ],
      "metadata": {
        "id": "tuqmnAiF72tT"
      }
    },
    {
      "cell_type": "code",
      "source": [
        "import sys # sys.executable\n",
        "import os\n",
        "import numpy as np\n",
        "from numpy import zeros"
      ],
      "metadata": {
        "id": "bI1_laEj8d35"
      },
      "execution_count": 2,
      "outputs": []
    },
    {
      "cell_type": "markdown",
      "source": [
        "### Listas"
      ],
      "metadata": {
        "id": "SjpmHie59Z87"
      }
    },
    {
      "cell_type": "code",
      "source": [
        "a = ['Super', 0.34, True, 3]\n",
        "a_1 = [0, 1, 2, 3, 4, 5, 6, 7, 8, 9]\n",
        "print(\"Las listas comprenden cualquier tipo de dato a = \",a)\n"
      ],
      "metadata": {
        "colab": {
          "base_uri": "https://localhost:8080/"
        },
        "id": "D3zDZ4zf9e6j",
        "outputId": "054d4b39-c525-4080-acad-7c4ee0a3c89c"
      },
      "execution_count": 3,
      "outputs": [
        {
          "output_type": "stream",
          "name": "stdout",
          "text": [
            "Las listas comprenden cualquier tipo de dato a =  ['Super', 0.34, True, 3]\n"
          ]
        }
      ]
    },
    {
      "cell_type": "markdown",
      "source": [
        "### Indexing\n",
        "Es importante recordar que los indices en Python comienzan en 0."
      ],
      "metadata": {
        "id": "irPJ0yqW_dkW"
      }
    },
    {
      "cell_type": "code",
      "source": [
        "print(\"El primer elemento en a es ¡\", a[0],\n",
        "      \"!, mientras que el segundo elemento de a es:\", a[1])\n",
        "\n",
        "# Para revisar la longitud de la lista usamos la función len\n",
        "print(\"La longitud de a es\", len(a), \"y la de a_1 es\", len(a_1))\n",
        "\n",
        "# Si queremos obtener la media o la mediana de la lista (en caso de que contenga\n",
        "# valores numericos) podemos usa funciones de Numpy.\n",
        "print(\"La media de a_1 es:\", np.mean(a_1), \", mientras que la mediana es:\",\n",
        "      np.median(a_1), \"y la desviacion estándar es:\", np.std(a_1))"
      ],
      "metadata": {
        "colab": {
          "base_uri": "https://localhost:8080/"
        },
        "id": "s6SigMwz_vT6",
        "outputId": "0eb27fef-a495-440c-f205-2421a38ea1b5"
      },
      "execution_count": 4,
      "outputs": [
        {
          "output_type": "stream",
          "name": "stdout",
          "text": [
            "El primer elemento en a es ¡ Super !, mientras que el segundo elemento de a es: 0.34\n",
            "La longitud de a es 4 y la de a_1 es 10\n",
            "La media de a_1 es: 4.5 , mientras que la mediana es: 4.5 y la desviacion estándar es: 2.8722813232690143\n"
          ]
        }
      ]
    },
    {
      "cell_type": "markdown",
      "source": [
        "### Arrays de NumPy"
      ],
      "metadata": {
        "id": "uwV8pAGhDHP9"
      }
    },
    {
      "cell_type": "code",
      "source": [
        "# Definimos un array de la siguiente forma:\n",
        "b = np.array([[2, 4, 5], [3, 4, 8]]) # Las dimensiones en un array estan \n",
        "# separadas por []\n",
        "print(\"El NumPy array b es:\", b)\n",
        "\n",
        "# Los índices con arrays funcionan igual que con las listas\n",
        "print(\"La tercera posicion del primer vector en el array b es:\", b[0][2])\n",
        "\n",
        "# Para verificar la forma de un array o matriz usamos el comando shape\n",
        "print(\"La forma de la matriz b es:\", b.shape)\n",
        "# En este caso, la matriz b tiene forma 2x3\n",
        "\n",
        "# Tambien podemos obtener la media, mediana, varianza, desviación estándar y\n",
        "# otros estadísticos.\n",
        "# Usamos los mismos métodos que usamos para las listas de Python.\n",
        "print(\"la media de la matriz sobre el eje 0 es\", np.mean(b, axis=0))\n",
        "print(\"la media de la matriz sobre el eje 1 es\", np.mean(b, axis=1))"
      ],
      "metadata": {
        "colab": {
          "base_uri": "https://localhost:8080/"
        },
        "id": "jJKoIrGxDVuF",
        "outputId": "bf5bc9d5-f19f-49c1-feb3-51481806355d"
      },
      "execution_count": 5,
      "outputs": [
        {
          "output_type": "stream",
          "name": "stdout",
          "text": [
            "El NumPy array b es: [[2 4 5]\n",
            " [3 4 8]]\n",
            "La tercera posicion del primer vector en el array b es: 5\n",
            "La forma de la matriz b es: (2, 3)\n",
            "la media de la matriz sobre el eje 0 es [2.5 4.  6.5]\n",
            "la media de la matriz sobre el eje 1 es [3.66666667 5.        ]\n"
          ]
        }
      ]
    },
    {
      "cell_type": "code",
      "source": [
        "import pandas as pd\n"
      ],
      "metadata": {
        "id": "JcrzkrTAsYeC"
      },
      "execution_count": 50,
      "outputs": []
    },
    {
      "cell_type": "markdown",
      "source": [
        "## Importar archivos con Pandas"
      ],
      "metadata": {
        "id": "vDXE8UO_U6cw"
      }
    },
    {
      "cell_type": "code",
      "source": [
        "# Primero debemos importar pandas\n",
        "import pandas as pd\n",
        "\n",
        "# Establecemos el path (ruta de acceso de nuestros datos).\n",
        "# Nos conviene crear un objeto de Python para no tener que escribir la ruta cada vez que la usemos.\n",
        "# En este caso, el archivo de datos se encuentra cargado en Github\n",
        "# No olvidar poner la ruta entre comillas.\n",
        "cartera = \"https://raw.githubusercontent.com/d-triana/EstadisticaPython/main/cartera.csv\"\n",
        " \n",
        "# Le indicamos a Python que lea nuestro archivo usando pandas\n",
        "df = pd.read_csv(cartera)\n",
        "print(df)\n",
        "\n",
        "# Obtener los valores de nuestro Dataframe\n",
        "print(\"Valores del DF\", df.values)\n",
        "\n",
        "# Obtener solo los encabezados de las columnas\n",
        "print(\"Encabezados de columnas\", df.columns.values)"
      ],
      "metadata": {
        "colab": {
          "base_uri": "https://localhost:8080/"
        },
        "id": "8CvP6lBLU_ce",
        "outputId": "8bb1e3d5-d944-4872-9bd6-1854649c36a7"
      },
      "execution_count": 74,
      "outputs": [
        {
          "output_type": "stream",
          "name": "stdout",
          "text": [
            "       date  a_pagar_vencido  avg_pagarv  a_pagar_para_liquidar   saldo_final  \\\n",
            "0    jul-13      13863287.41    36386.58            46013257.92  7.248225e+08   \n",
            "1    ago-13      13543466.26    40188.33            42329078.79  7.348770e+08   \n",
            "2    sep-13      13640044.22    39651.29            44171302.80  7.543578e+08   \n",
            "3    oct-13      13928949.16    38907.68            46112341.31  7.634271e+08   \n",
            "4    nov-13      13144385.06    41861.10            46112341.31  7.716835e+08   \n",
            "..      ...              ...         ...                    ...           ...   \n",
            "99   oct-21      13407746.33    44992.44            40310810.16  1.108877e+09   \n",
            "100  nov-21      12899560.52    50388.91            35898974.19  1.150060e+09   \n",
            "101  dic-21      12863621.68    47292.73            39380901.33  1.162107e+09   \n",
            "102  ene-22      12958092.40    48171.35            38813998.38  1.159101e+09   \n",
            "103  feb-22      12716849.01    51485.22            34829918.87  1.161873e+09   \n",
            "\n",
            "     cuentas_carterav  cuentas_total  pctg_cuentas_carterav  \\\n",
            "0               381.0         4434.0                   0.09   \n",
            "1               337.0         4418.0                   0.08   \n",
            "2               344.0         4580.0                   0.08   \n",
            "3               358.0         4719.0                   0.08   \n",
            "4               314.0         4766.0                   0.07   \n",
            "..                ...            ...                    ...   \n",
            "99              298.0         6773.0                   0.04   \n",
            "100             256.0         6950.0                   0.04   \n",
            "101             272.0         7013.0                   0.04   \n",
            "102             269.0         6964.0                   0.04   \n",
            "103             247.0         6922.0                   0.04   \n",
            "\n",
            "     pctg_liquidar_sfinal  pctg_vencido_sfinal  ...  cv_pagos_cap  \\\n",
            "0                    0.06                 0.02  ...        324.81   \n",
            "1                    0.06                 0.02  ...        616.44   \n",
            "2                    0.06                 0.02  ...        465.33   \n",
            "3                    0.06                 0.02  ...        426.82   \n",
            "4                    0.06                 0.02  ...        591.14   \n",
            "..                    ...                  ...  ...           ...   \n",
            "99                   0.04                 0.01  ...        388.20   \n",
            "100                  0.03                 0.01  ...        523.50   \n",
            "101                  0.03                 0.01  ...        371.04   \n",
            "102                  0.03                 0.01  ...        418.92   \n",
            "103                  0.03                 0.01  ...        638.11   \n",
            "\n",
            "     pagos_seguro  pagos_capital_seguro  pagos_recibidos  avg_pagos_rec  \\\n",
            "0        67073.14            9049455.42      10141966.67        7132.18   \n",
            "1        35803.69            5811983.43       6615324.79        9099.48   \n",
            "2        67592.90            8455044.39       9354551.03        8359.74   \n",
            "3        75586.83           10222281.99      11401248.99        7417.86   \n",
            "4        36905.46            5117994.49       5747824.64        8477.62   \n",
            "..            ...                   ...              ...            ...   \n",
            "99      101083.71           12534278.59      16175289.35        7991.74   \n",
            "100      83208.16           10715425.37      14214300.92        9988.97   \n",
            "101     130590.20           16836650.35      21894431.66        9478.11   \n",
            "102     103663.59           13706921.28      17283331.76        8539.20   \n",
            "103      64540.99           10078873.51      14288513.79       11128.13   \n",
            "\n",
            "     ministracion  avg_minist  sd_minist  cv_minist  diff_pagosrec_minist  \n",
            "0       1453046.0      327.71    4152.99    1267.29            8688920.67  \n",
            "1      15708526.0     3555.57   17111.66     481.26           -9093201.21  \n",
            "2      27824078.0     6075.13   26887.76     442.59          -18469526.97  \n",
            "3      19115145.0     4050.68   22711.12     560.67           -7713896.01  \n",
            "4      13243489.0     2778.74   18077.32     650.56           -7495664.36  \n",
            "..            ...         ...        ...        ...                   ...  \n",
            "99     29402167.0     4341.08   25578.22     589.21          -13226877.65  \n",
            "100    53656808.0     7720.40   46799.12     606.17          -39442507.08  \n",
            "101    31620011.0     4508.77   34035.41     754.87           -9725579.34  \n",
            "102    12087700.0     1735.74   16551.55     953.57            5195631.76  \n",
            "103    15262879.0     2204.98   18308.96     830.35            -974365.21  \n",
            "\n",
            "[104 rows x 33 columns]\n",
            "Valores del DF [['jul-13' 13863287.41 36386.58 ... 4152.99 1267.29 8688920.67]\n",
            " ['ago-13' 13543466.26 40188.33 ... 17111.66 481.26 -9093201.21]\n",
            " ['sep-13' 13640044.22 39651.29 ... 26887.76 442.59 -18469526.97]\n",
            " ...\n",
            " ['dic-21' 12863621.68 47292.73 ... 34035.41 754.87 -9725579.34]\n",
            " ['ene-22' 12958092.4 48171.35 ... 16551.55 953.57 5195631.76]\n",
            " ['feb-22' 12716849.01 51485.22 ... 18308.96 830.35 -974365.21]]\n",
            "Encabezados de columnas ['date' 'a_pagar_vencido' 'avg_pagarv' 'a_pagar_para_liquidar'\n",
            " 'saldo_final' 'cuentas_carterav' 'cuentas_total' 'pctg_cuentas_carterav'\n",
            " 'pctg_liquidar_sfinal' 'pctg_vencido_sfinal' 'avg_pagosv' 'median_pagosv'\n",
            " 'mode_pagosv' 'sd_pagosv' 'cv_pagosv' 'avg_meses_atraso'\n",
            " 'median_meses_atraso' 'mode_meses_atraso' 'sd_meses_atraso'\n",
            " 'cv_meses_atraso' 'pagos_cap' 'avg_pagos_cap' 'sd_pagos_cap'\n",
            " 'cv_pagos_cap' 'pagos_seguro' 'pagos_capital_seguro' 'pagos_recibidos'\n",
            " 'avg_pagos_rec' 'ministracion' 'avg_minist' 'sd_minist' 'cv_minist'\n",
            " 'diff_pagosrec_minist']\n"
          ]
        }
      ]
    },
    {
      "cell_type": "code",
      "source": [
        "\n",
        "print(df.a_pagar_vencido)"
      ],
      "metadata": {
        "colab": {
          "base_uri": "https://localhost:8080/"
        },
        "id": "RtUC8UUy0j3x",
        "outputId": "53edd2ad-82d8-449c-b53c-6f9c335dbdc2"
      },
      "execution_count": 75,
      "outputs": [
        {
          "output_type": "stream",
          "name": "stdout",
          "text": [
            "0      13863287.41\n",
            "1      13543466.26\n",
            "2      13640044.22\n",
            "3      13928949.16\n",
            "4      13144385.06\n",
            "          ...     \n",
            "99     13407746.33\n",
            "100    12899560.52\n",
            "101    12863621.68\n",
            "102    12958092.40\n",
            "103    12716849.01\n",
            "Name: a_pagar_vencido, Length: 104, dtype: float64\n"
          ]
        }
      ]
    },
    {
      "cell_type": "markdown",
      "source": [
        "## Gráficas con Matplotlib"
      ],
      "metadata": {
        "id": "z3H02N90tImQ"
      }
    },
    {
      "cell_type": "code",
      "source": [
        "from numpy.core.fromnumeric import size\n",
        "# Construimos los valores del Dataframe\n",
        "data_values = df.values\n",
        "\n",
        "# Establecemos los valores si deseamos graficar\n",
        "x = data_values[:,0]\n",
        "y = data_values[:,5]\n",
        "\n",
        "# Importamos la paqueteria necesaria para graficar\n",
        "import matplotlib as mpl\n",
        "import matplotlib.pyplot as plt\n",
        "\n",
        "# Creamos un gráfico vacío e indicamos el tamaño deseado\n",
        "fig, ax = plt.subplots()\n",
        "\n",
        "# Creamos nuestra gráfica\n",
        "ax.plot(x, y, \"b\")\n",
        "\n",
        "# Título de la gráfica\n",
        "ax.set_title(\"Primera gráfica\\n Cuentas en cartera vencida 2013-2022\",\n",
        "             fontsize=15, color='grey')\n",
        "\n",
        "# Título del eje x\n",
        "ax.set_xlabel(\"Fecha\", fontsize=15, color='grey')\n",
        "xtick_loc = ['13-Dic', '14-Dic', '15-Dic', '16-Dic', '17-Dic', '18-Dic',\n",
        "             '19-Dic', '20-Dic', '21-Dic']\n",
        "labels = ['2013', '2014', '2015', '2016', '2017', '2018', '2019', '2020',\n",
        "          '2021']\n",
        "ax.set_xticks(x[::12])\n",
        "\n",
        "# Título del eje y\n",
        "ax.set_ylabel(\"Cuentas en cartera vencida\", fontsize=15, color='grey')\n",
        "\n",
        "# Podemos poner un mensaje dentro del area del gráfico\n",
        "ax.annotate('Posible efecto de la pandemia', fontsize=10, color='grey',\n",
        "            xytext=('jul-15', 650), \n",
        "            xy=('sep-20', 750), arrowprops=dict(facecolor='y', shrink=0.20))\n",
        "\n",
        "# Indicamos que muestre la gráfica creada\n",
        "plt.show()\n"
      ],
      "metadata": {
        "colab": {
          "base_uri": "https://localhost:8080/",
          "height": 321
        },
        "id": "z24ZFNIbicha",
        "outputId": "39287f57-6e5a-4f84-8f90-a55cf47e20ac"
      },
      "execution_count": 78,
      "outputs": [
        {
          "output_type": "display_data",
          "data": {
            "text/plain": [
              "<Figure size 432x288 with 1 Axes>"
            ],
            "image/png": "[encoded data removed]"
          },
          "metadata": {
            "needs_background": "light"
          }
        }
      ]
    },
    {
      "cell_type": "code",
      "source": [
        "# Importamos el paquete para estadística \"scipy\"\n",
        "import scipy.stats as ss\n",
        "\n",
        "# Creamos una figura vacía\n",
        "fig, ax = plt.subplots()\n",
        "\n",
        "# Para calcular el valor z de una variable de interés usamos el método \"zscore\"\n",
        "valor_z = ss.zscore(data_values[:,1::])\n",
        "\n",
        "# Para calcular el coeficiente de correlación entre dos variables usamos el \n",
        "# método \"corrcoef\". Inidcamos que deseamos usar la matriz transpuesta.\n",
        "corr_coef = np.corrcoef(valor_z.transpose())\n",
        "\n",
        "# Generamos una matriz de correlaciones.\n",
        "ax.imshow(corr_coef)\n",
        "ax.set_xlabel(\"\")\n",
        "ax.set_ylabel(\"\")\n",
        "plt.show()"
      ],
      "metadata": {
        "id": "pmHC1T4xDyNn"
      },
      "execution_count": null,
      "outputs": []
    },
    {
      "cell_type": "markdown",
      "source": [
        "## Loops <p>\n",
        "Los \"loops\" sirven para realizar iteraciones (repeticiones) sobre elementos u objetos definidos. La mayoría de las ocasiones estos elementos tendrán asociado algún tipo de dato específico como listas, strings o diccionarios. Estos elementos también pueden ser un rango de objetos de Python.\n"
      ],
      "metadata": {
        "id": "Y1fb4k0pXYhA"
      }
    },
    {
      "cell_type": "code",
      "source": [
        "# Creamos una lista\n",
        "list_1 = [\"Hugo\", \"Paco\", \"Luis\"]"
      ],
      "metadata": {
        "id": "rO3yUvp8YHN5"
      },
      "execution_count": 87,
      "outputs": []
    },
    {
      "cell_type": "markdown",
      "source": [
        "Una vez creada la lista, podemos recorrer los elementos contenidos en ella e imprimir uno por uno. Utilizaremos un  'for loop'."
      ],
      "metadata": {
        "id": "F7ZoO3ZwYgvR"
      }
    },
    {
      "cell_type": "code",
      "source": [
        "for i in list_1:\n",
        "  print(i)"
      ],
      "metadata": {
        "colab": {
          "base_uri": "https://localhost:8080/"
        },
        "id": "PBqb8RcNYrSg",
        "outputId": "0f7a41d5-9ae2-40cd-c2d5-8f551e37a741"
      },
      "execution_count": 88,
      "outputs": [
        {
          "output_type": "stream",
          "name": "stdout",
          "text": [
            "Hugo\n",
            "Paco\n",
            "Luis\n"
          ]
        }
      ]
    },
    {
      "cell_type": "markdown",
      "source": [
        "Hagamos otro ejemplo creando una nueva lista:"
      ],
      "metadata": {
        "id": "5atn2vzQY9GQ"
      }
    },
    {
      "cell_type": "code",
      "source": [
        "list_2 = [1, 2, 3, 4, 5]"
      ],
      "metadata": {
        "id": "QdlRd1PVZJbf"
      },
      "execution_count": 89,
      "outputs": []
    },
    {
      "cell_type": "code",
      "source": [
        "for i in list_2:\n",
        "  print(i)"
      ],
      "metadata": {
        "colab": {
          "base_uri": "https://localhost:8080/"
        },
        "id": "badoQm2wZO4v",
        "outputId": "35f0abad-8757-46ae-95f6-3e5b81158ca6"
      },
      "execution_count": 90,
      "outputs": [
        {
          "output_type": "stream",
          "name": "stdout",
          "text": [
            "1\n",
            "2\n",
            "3\n",
            "4\n",
            "5\n"
          ]
        }
      ]
    },
    {
      "cell_type": "markdown",
      "source": [
        "Supongamos que deseamos elevar al cuadrado cada uno de los números contenidos en nuestra lista. Para realizar esta operación vamos a utilizar un 'for loop'."
      ],
      "metadata": {
        "id": "KnKeoGOgZXEv"
      }
    },
    {
      "cell_type": "code",
      "source": [
        "for i in list_2:\n",
        "  print(i**2)"
      ],
      "metadata": {
        "colab": {
          "base_uri": "https://localhost:8080/"
        },
        "id": "ZzYxZFgSZy4P",
        "outputId": "ad566f03-2258-4c72-d44b-bf25795ecfe6"
      },
      "execution_count": 91,
      "outputs": [
        {
          "output_type": "stream",
          "name": "stdout",
          "text": [
            "1\n",
            "4\n",
            "9\n",
            "16\n",
            "25\n"
          ]
        }
      ]
    },
    {
      "cell_type": "markdown",
      "source": [
        "¿Cómo podemos crear una nueva lista con los valores al cuadrado que acabamos de obtener?"
      ],
      "metadata": {
        "id": "-I2UJi0GahXP"
      }
    },
    {
      "cell_type": "code",
      "source": [
        "# Definimos una nueva lista vacía\n",
        "list_3 = []\n",
        "\n",
        "# Creamos nuestro 'for loop'\n",
        "for i in list_2: # Vamos a usar la variable 'i' de forma genérica\n",
        "  list_3.append(i**2)\n",
        "  # el método append nos permite unir la operación en la lista\n",
        "print(list_3) "
      ],
      "metadata": {
        "colab": {
          "base_uri": "https://localhost:8080/"
        },
        "id": "KWhAYgaxaqGZ",
        "outputId": "9d6b7e5a-625a-44b7-de99-bce6df6be6b9"
      },
      "execution_count": 103,
      "outputs": [
        {
          "output_type": "stream",
          "name": "stdout",
          "text": [
            "[1, 4, 9, 16, 25]\n"
          ]
        }
      ]
    },
    {
      "cell_type": "markdown",
      "source": [
        "## Iteraciones con 'strings'"
      ],
      "metadata": {
        "id": "c7LQR_l7cREO"
      }
    },
    {
      "cell_type": "markdown",
      "source": [
        "Los loops se pueden utilizar con listas no numéricas, como datos tipo 'string'."
      ],
      "metadata": {
        "id": "-121dmC1cZJ2"
      }
    },
    {
      "cell_type": "code",
      "source": [
        "# Nuevo texto\n",
        "texto = 'Me encanta hacer loops con Python'\n",
        "txto_2 = [\"Me\", \"encanta\", \"hacer\", \"loops\"]\n",
        "\n",
        "# Creamos nuestro 'for loop'\n",
        "for i in texto:\n",
        "  print(i)"
      ],
      "metadata": {
        "id": "5wuyNtagci8L"
      },
      "execution_count": null,
      "outputs": []
    },
    {
      "cell_type": "markdown",
      "source": [
        "Podemos ver que cada 'string' se maneja como una secuencia de caracteres, por los que el 'for loop' funciona de la misma forma como funcionaría con una lista."
      ],
      "metadata": {
        "id": "poTNKhwddjcd"
      }
    },
    {
      "cell_type": "markdown",
      "source": [
        "# Iteración en un rango de objetos"
      ],
      "metadata": {
        "id": "cWsG8hFLd4d-"
      }
    },
    {
      "cell_type": "code",
      "source": [
        "# El rango comienza en o, termina en 10 y avanza en pasos de 2 en 2\n",
        "nva_lista = range(0,11,2)\n",
        "for i in nva_lista:\n",
        "  print(i)"
      ],
      "metadata": {
        "colab": {
          "base_uri": "https://localhost:8080/"
        },
        "id": "tmiMhe0vd-qI",
        "outputId": "e1c881f2-cbed-45f6-e320-9b1755a5b296"
      },
      "execution_count": 111,
      "outputs": [
        {
          "output_type": "stream",
          "name": "stdout",
          "text": [
            "0\n",
            "2\n",
            "4\n",
            "6\n",
            "8\n",
            "10\n"
          ]
        }
      ]
    },
    {
      "cell_type": "markdown",
      "source": [
        "## Iteraciones  a través de 'enumerate'"
      ],
      "metadata": {
        "id": "mSWS90xUhJtU"
      }
    },
    {
      "cell_type": "code",
      "source": [
        "numeros = [2, 4, 6, 8, 10]\n",
        "\n",
        "for num,i in enumerate(numeros):\n",
        "  print(\"La ubicación del elemento \" + str(i) + \" es \" + str(num))"
      ],
      "metadata": {
        "colab": {
          "base_uri": "https://localhost:8080/"
        },
        "id": "RXD6VoW-hOKF",
        "outputId": "149b9513-fe1b-459f-ff7a-1b289d42fee6"
      },
      "execution_count": 120,
      "outputs": [
        {
          "output_type": "stream",
          "name": "stdout",
          "text": [
            "La ubicación del elemento 2 es 0\n",
            "La ubicación del elemento 4 es 1\n",
            "La ubicación del elemento 6 es 2\n",
            "La ubicación del elemento 8 es 3\n",
            "La ubicación del elemento 10 es 4\n"
          ]
        }
      ]
    },
    {
      "cell_type": "markdown",
      "source": [
        "Otra forma de obtener el mismo resultado:"
      ],
      "metadata": {
        "id": "X_WRN4c4iz4M"
      }
    },
    {
      "cell_type": "code",
      "source": [
        "numeros = [2, 4, 6, 8, 10]\n",
        "numeros_length = len(numeros)\n",
        "for i in range(0,numeros_length):\n",
        "  print(i, numeros[i])"
      ],
      "metadata": {
        "colab": {
          "base_uri": "https://localhost:8080/"
        },
        "id": "-SvYRzpWi2qv",
        "outputId": "dea62ef4-20f1-4855-c460-1056916b8a0e"
      },
      "execution_count": 121,
      "outputs": [
        {
          "output_type": "stream",
          "name": "stdout",
          "text": [
            "0 2\n",
            "1 4\n",
            "2 6\n",
            "3 8\n",
            "4 10\n"
          ]
        }
      ]
    },
    {
      "cell_type": "markdown",
      "source": [
        "## Condicionales"
      ],
      "metadata": {
        "id": "qlDGfvYIjm5M"
      }
    },
    {
      "cell_type": "markdown",
      "source": [
        "Las condicionales (valores booleanos) son operaciones lógicas que nos permiten determinar si una aseveración es verdadera o falsa. <p>\n",
        "Supongamos que tenemos los siguientes valores: a = 10 y b = 20 <p>\n",
        "Para comparar estos valores usamos el operados lógico '==' (doble signo de igual). Esta comparación puede resultar Verdadera o Falsa."
      ],
      "metadata": {
        "id": "N4s2_DlHjz-T"
      }
    },
    {
      "cell_type": "code",
      "source": [
        "# Definimos el valor de nuestras variables\n",
        "a = 10\n",
        "b = 20\n",
        "# Para establecer la igualdad de estas dos variables usamos un condicional.\n",
        "a == b # Esta operación nos regresa un valor lógico. En este caso \"False\"."
      ],
      "metadata": {
        "colab": {
          "base_uri": "https://localhost:8080/"
        },
        "id": "ALZtyR5Bjp-L",
        "outputId": "2f267b2b-6733-4c60-fb27-4c95a87bd4c6"
      },
      "execution_count": 124,
      "outputs": [
        {
          "output_type": "execute_result",
          "data": {
            "text/plain": [
              "False"
            ]
          },
          "metadata": {},
          "execution_count": 124
        }
      ]
    },
    {
      "cell_type": "code",
      "source": [
        "# Si deseamos comprobar la falsedad de la aseveración, podemos usar la negación.\n",
        "a = 10\n",
        "b = 20\n",
        "not a==b # En este caso nos regresa el valor \"True\""
      ],
      "metadata": {
        "colab": {
          "base_uri": "https://localhost:8080/"
        },
        "id": "VNCtgLedk_yT",
        "outputId": "959074ba-3c30-4d81-ae25-e524c103a0aa"
      },
      "execution_count": 126,
      "outputs": [
        {
          "output_type": "execute_result",
          "data": {
            "text/plain": [
              "True"
            ]
          },
          "metadata": {},
          "execution_count": 126
        }
      ]
    },
    {
      "cell_type": "markdown",
      "source": [
        "También podemos establecer que cuando la condición se cumpla, Python imprima la palabra \"Sí\" y cuando no se cumpla, la palabra \"No\"."
      ],
      "metadata": {
        "id": "mug5ZGQVlS0S"
      }
    },
    {
      "cell_type": "code",
      "source": [
        "a = 10\n",
        "b = 20\n",
        "if a == b:\n",
        "  print(\"Sí\")\n",
        "else:\n",
        "  print(\"No\")"
      ],
      "metadata": {
        "colab": {
          "base_uri": "https://localhost:8080/"
        },
        "id": "ZMHrXURtluEi",
        "outputId": "ebc0ee87-ce3d-4520-c8c8-293599bd40ea"
      },
      "execution_count": 129,
      "outputs": [
        {
          "output_type": "stream",
          "name": "stdout",
          "text": [
            "No\n"
          ]
        }
      ]
    },
    {
      "cell_type": "markdown",
      "source": [
        "¿Qué sucede con condicionales más complejas?"
      ],
      "metadata": {
        "id": "fuSZELxomFlT"
      }
    },
    {
      "cell_type": "code",
      "source": [
        "a = 10\n",
        "b = 20\n",
        "c = 30\n",
        "if (a+b) / c == 1 or c - b - a == 0:\n",
        "  print(\"Sí\")\n",
        "else:\n",
        "  print(\"No\") # En este caso sí se cumple la condicional."
      ],
      "metadata": {
        "colab": {
          "base_uri": "https://localhost:8080/"
        },
        "id": "dk7b9CcPmKKU",
        "outputId": "ff7d180b-eba9-4f0b-f106-6b643e2df4ba"
      },
      "execution_count": 130,
      "outputs": [
        {
          "output_type": "stream",
          "name": "stdout",
          "text": [
            "Sí\n"
          ]
        }
      ]
    },
    {
      "cell_type": "code",
      "source": [
        "a = 10\n",
        "b = 11\n",
        "c = 10\n",
        "if a == b:\n",
        "  print(\"La primera condición es cierta\")\n",
        "elif a == c:\n",
        "  print(\"La segunda condición es cierta\")\n",
        "else:\n",
        "  print(\"Ninguna de las condiciones se cumple\")"
      ],
      "metadata": {
        "colab": {
          "base_uri": "https://localhost:8080/"
        },
        "id": "a0SlUZB9mwhj",
        "outputId": "25ce897c-e13b-4e42-fb8b-a47f06d6e771"
      },
      "execution_count": 131,
      "outputs": [
        {
          "output_type": "stream",
          "name": "stdout",
          "text": [
            "La segunda condición es cierta\n"
          ]
        }
      ]
    },
    {
      "cell_type": "markdown",
      "source": [
        "# Funciones\n",
        "Las funciones son uno de los componentes más importantes en Python. Para realizar análisis de datos, constantemente vamos a requerir crear nuestras propias funciones. <p>\n",
        "¿Cómo definir nuestras propias funciones? User-Defined Functions (UDFs)<p>\n",
        "Para crear funciones en Python usaremos cuatro pasos:<p>\n",
        "1. Usar la palabra clave 'def' para declarar una función seguido del nombre de la función.<p>\n",
        "2. Añadimos parámetros a la función: los parámetros deben encontrarse dentro del paréntesis de la función. Terminamos la línea de definición con dos puntos ':'<p>\n",
        "3. Agregamos la operación que deseamos que la función ejecute.<p>\n",
        "4. Debemos terminar nuestra función con el argumento 'return' que nos dará el producto de la función. Sin el argumento 'return', la función regresará el objeto 'None'."
      ],
      "metadata": {
        "id": "Pi9FOusInQuW"
      }
    },
    {
      "cell_type": "code",
      "source": [
        "def mi_funcion(): # No estamos estableciendo ningún parámetro para la función\n",
        "  print('Esta es mi primera función')\n",
        "  return # La función únicamente imprime la frase\n",
        "\n",
        "mi_funcion()"
      ],
      "metadata": {
        "colab": {
          "base_uri": "https://localhost:8080/"
        },
        "id": "2bx-u2SipNZr",
        "outputId": "1d9bc816-d728-401d-c419-89d64669b177"
      },
      "execution_count": 136,
      "outputs": [
        {
          "output_type": "stream",
          "name": "stdout",
          "text": [
            "Esta es mi primera función\n"
          ]
        }
      ]
    },
    {
      "cell_type": "markdown",
      "source": [
        "Las funciones pueden incluir loops complejos u otras operaciones."
      ],
      "metadata": {
        "id": "oOgQliORp2_p"
      }
    },
    {
      "cell_type": "code",
      "source": [
        "def mi_funcion():\n",
        "  nombre = input(\"Ingresa tu nombre:\")\n",
        "  if nombre:\n",
        "    print(\"Hola \" + str(nombre))\n",
        "  else:\n",
        "    print(\"Hola sin nombre\")\n",
        "  return\n",
        "\n",
        "mi_funcion()"
      ],
      "metadata": {
        "colab": {
          "base_uri": "https://localhost:8080/"
        },
        "id": "tgGMXvHLqJEK",
        "outputId": "d112bb4e-ac01-4b24-84c6-f3ada56903d2"
      },
      "execution_count": 138,
      "outputs": [
        {
          "output_type": "stream",
          "name": "stdout",
          "text": [
            "Ingresa tu nombre:Daniel\n",
            "Hola Daniel\n"
          ]
        }
      ]
    },
    {
      "cell_type": "markdown",
      "source": [
        "El argumento 'return':<p>\n",
        "Es importante notar que una función definida por el usuario (UDF), cuando indicamos que imprima algún mensaje, no es necesario el argumento 'return'; sin embargo, este argumento resulta fundamental si deseamos continuar trabajando con el resultado de la función y realizar operaciones con él."
      ],
      "metadata": {
        "id": "1gmVngQyrn8x"
      }
    },
    {
      "cell_type": "code",
      "source": [
        "def mi_funcion():\n",
        "  print(\"Hola a todos\")\n",
        "  return(\"Hola\")\n",
        "\n",
        "lista = []\n",
        "lista = mi_funcion()\n",
        "print(lista)"
      ],
      "metadata": {
        "colab": {
          "base_uri": "https://localhost:8080/"
        },
        "id": "ofsN7NketEx_",
        "outputId": "213d8f10-3ae5-4914-c18a-8e1b2b880861"
      },
      "execution_count": 143,
      "outputs": [
        {
          "output_type": "stream",
          "name": "stdout",
          "text": [
            "Hola a todos\n",
            "Hola\n"
          ]
        }
      ]
    },
    {
      "cell_type": "code",
      "source": [
        "def mi_funcion_2():\n",
        "  print(\"Hola a todos\")"
      ],
      "metadata": {
        "id": "wSP88fLyt0Vb"
      },
      "execution_count": 142,
      "outputs": []
    },
    {
      "cell_type": "code",
      "source": [
        "# Vamos a multiplicar el output de 'mi_funcion()' y 'mi_funcion_2()' por 2\n",
        "mi_funcion() * 2\n",
        "mi_funcion_2() * 2"
      ],
      "metadata": {
        "colab": {
          "base_uri": "https://localhost:8080/",
          "height": 235
        },
        "id": "V5IIa7LUuA5r",
        "outputId": "092cf4ea-6461-45ba-b4e4-d070bb17bad5"
      },
      "execution_count": 146,
      "outputs": [
        {
          "output_type": "stream",
          "name": "stdout",
          "text": [
            "Hola a todos\n",
            "Hola a todos\n"
          ]
        },
        {
          "output_type": "error",
          "ename": "TypeError",
          "evalue": "ignored",
          "traceback": [
            "\u001b[0;31m---------------------------------------------------------------------------\u001b[0m",
            "\u001b[0;31mTypeError\u001b[0m                                 Traceback (most recent call last)",
            "\u001b[0;32m<ipython-input-146-be72e63fbaf6>\u001b[0m in \u001b[0;36m<module>\u001b[0;34m()\u001b[0m\n\u001b[1;32m      1\u001b[0m \u001b[0;31m# Vamos a multiplicar el output de 'mi_funcion()' y 'mi_funcion_2()' por 2\u001b[0m\u001b[0;34m\u001b[0m\u001b[0;34m\u001b[0m\u001b[0;34m\u001b[0m\u001b[0m\n\u001b[1;32m      2\u001b[0m \u001b[0mmi_funcion\u001b[0m\u001b[0;34m(\u001b[0m\u001b[0;34m)\u001b[0m \u001b[0;34m*\u001b[0m \u001b[0;36m2\u001b[0m\u001b[0;34m\u001b[0m\u001b[0;34m\u001b[0m\u001b[0m\n\u001b[0;32m----> 3\u001b[0;31m \u001b[0mmi_funcion_2\u001b[0m\u001b[0;34m(\u001b[0m\u001b[0;34m)\u001b[0m \u001b[0;34m*\u001b[0m \u001b[0;36m2\u001b[0m\u001b[0;34m\u001b[0m\u001b[0;34m\u001b[0m\u001b[0m\n\u001b[0m",
            "\u001b[0;31mTypeError\u001b[0m: unsupported operand type(s) for *: 'NoneType' and 'int'"
          ]
        }
      ]
    },
    {
      "cell_type": "markdown",
      "source": [
        "La segunda fucnión nos regresa un error ya que no podemos realizar operaciones con 'None', el cual es el valor que obtenemos al no especificar el argumento 'return'."
      ],
      "metadata": {
        "id": "7htAFXv8uhiO"
      }
    },
    {
      "cell_type": "markdown",
      "source": [
        "Las funciones terminan de forma automática cuando encuentran un argumento 'return', auqnue no obtengan ningún valor o resultado."
      ],
      "metadata": {
        "id": "sbxD7yCCvOsn"
      }
    },
    {
      "cell_type": "code",
      "source": [
        "def run():\n",
        "  for x in range(10):\n",
        "    if x == 2: # Podemos especificar cualquier num dentro del rango \n",
        "      return # Una vez que la función encuentre que 'x' es igual a ese num\n",
        "    print(\"Aquí termina la función\") # la función terminará al encontrar return\n",
        "\n",
        "run()"
      ],
      "metadata": {
        "colab": {
          "base_uri": "https://localhost:8080/"
        },
        "id": "2EeK_EnRvdRj",
        "outputId": "38f01d6d-2299-4588-de3c-536a687fa348"
      },
      "execution_count": 148,
      "outputs": [
        {
          "output_type": "stream",
          "name": "stdout",
          "text": [
            "Aquí termina la función\n",
            "Aquí termina la función\n"
          ]
        }
      ]
    },
    {
      "cell_type": "markdown",
      "source": [
        "El argumento 'return' puede usarse para devolver múltilples valores. Para esto vamos a utilizar 'tuplas'. Las 'tuplas' son muy similares a las listas ya que pueden contener mucho valores. Sin embargo, las'tuplas' son inmutables, por lo que los valores dentro de ellas no se pueden modificar.<p>\n",
        "Para construir tuplas usamos doble paréntesis. Las tuplas se pueden desagregar en múltiples variables con ayuda de la coma y el operador de asignación."
      ],
      "metadata": {
        "id": "BpRaz7HTwj9u"
      }
    },
    {
      "cell_type": "code",
      "source": [
        "# Vamos a crear la función 'plus'\n",
        "def plus(a, b): # Esta ocasión establecemos los parámetros a, b.\n",
        "  sum = a + b\n",
        "  return (sum, a)\n",
        "\n",
        "# Invocamos a la función 'plus'\n",
        "sum, a = plus(3,4)\n",
        "\n",
        "print(sum)"
      ],
      "metadata": {
        "colab": {
          "base_uri": "https://localhost:8080/"
        },
        "id": "W8BhcfYVxil1",
        "outputId": "cb3b6995-32fb-425c-d5ba-e64bbb553c2c"
      },
      "execution_count": 150,
      "outputs": [
        {
          "output_type": "stream",
          "name": "stdout",
          "text": [
            "7\n"
          ]
        }
      ]
    },
    {
      "cell_type": "markdown",
      "source": [
        "Argumentos de una función en Python:<p>\n",
        "Los argumentos de una función son los valores que son dados a la función. Los parámetros seránlos nombres que reciben los argumentos."
      ],
      "metadata": {
        "id": "NdJP5C6syalx"
      }
    },
    {
      "cell_type": "code",
      "source": [
        "def plus(a, b=2):\n",
        "  return a + b\n",
        "\n",
        "# Invocamos la función 'plus()' solo con un parámetro ('a').\n",
        "print(plus(a=1))\n",
        "\n",
        "# Invocamos 'plus()' con ambos parámetros ('a','b')\n",
        "print(plus(a=1, b=3))"
      ],
      "metadata": {
        "colab": {
          "base_uri": "https://localhost:8080/"
        },
        "id": "_sY7uJ7ky3Xi",
        "outputId": "7658fa31-8b20-4547-b766-d800864eb2c1"
      },
      "execution_count": 153,
      "outputs": [
        {
          "output_type": "stream",
          "name": "stdout",
          "text": [
            "3\n",
            "4\n"
          ]
        }
      ]
    }
  ]
}