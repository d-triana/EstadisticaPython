{
  "nbformat": 4,
  "nbformat_minor": 0,
  "metadata": {
    "colab": {
      "provenance": [],
      "collapsed_sections": [
        "7gLdNaUnS5v_"
      ],
      "mount_file_id": "1ONF07B7BVwgTOMIxzz3EZECeUlvwdR9q",
      "authorship_tag": "ABX9TyMIVDGXpUExfF0onA2ILAgS",
      "include_colab_link": true
    },
    "kernelspec": {
      "name": "python3",
      "display_name": "Python 3"
    },
    "language_info": {
      "name": "python"
    }
  },
  "cells": [
    {
      "cell_type": "markdown",
      "metadata": {
        "id": "view-in-github",
        "colab_type": "text"
      },
      "source": [
        "<a href=\"https://colab.research.google.com/github/d-triana/EstadisticaPython/blob/main/Est_Descriptiva.ipynb\" target=\"_parent\"><img src=\"https://colab.research.google.com/assets/colab-badge.svg\" alt=\"Open In Colab\"/></a>"
      ]
    },
    {
      "cell_type": "code",
      "execution_count": null,
      "metadata": {
        "id": "fPxFNnXISTWD"
      },
      "outputs": [],
      "source": [
        "'''''''''''''''''''''''''''''''''''\n",
        "Created on Tue Aug 16 15:14:55 2022\n",
        "@author: Daniel Triana\n",
        "'''''''''''''''''''''''''''''''''''"
      ]
    },
    {
      "cell_type": "markdown",
      "source": [
        "# Estadística Descriptiva"
      ],
      "metadata": {
        "id": "l2PHEk69SWR4"
      }
    },
    {
      "cell_type": "markdown",
      "source": [
        "## Medidas de Estadística Descriptiva\n",
        "Las medidas de estadística descriptiva se pueden dividir en medidas de tendencia central y medidas de variabilidad o dispersión.<p>\n",
        "### Medidas de Tendencia Central\n",
        "Las medidas de tendencia central nos ayudan a describir qué tan agrupados se encuentran los datos que estamos analizando. Las medidas de tendencia central más comunes son la media (promdedio), mediana y la moda.\n",
        "### Medidas de Dispersión\n",
        "Las medidas de dispersión nos ayudan a determinar que tan dispersos o variables son nuestros datos. <p>\n",
        "<p>\n",
        "Tanto las medidas de tendencia central como las medidas de dispersión pueden ser visualizadas a través de tablas y gráficos que nos ayudan a entender y darle significado a los datos analizados."
      ],
      "metadata": {
        "id": "7gLdNaUnS5v_"
      }
    },
    {
      "cell_type": "markdown",
      "source": [
        "# Medidas de Tendencia Central\n",
        "Las medidas de tendencia central describen la posición y centro de una distribución o un conjunto de datos determinado.<p>\n",
        "Podemos establecer la frecuencia con la que aparece cada dato en la distribución y describir dicha distribución utilizando su media, mediana o moda. Estas medidas nos permitirán describir los patrones más comúnes dentro del conjunto de datos."
      ],
      "metadata": {
        "id": "kI7vxgtXWxKH"
      }
    },
    {
      "cell_type": "markdown",
      "source": [
        "### Histograma"
      ],
      "metadata": {
        "id": "MF15D1MqemB4"
      }
    },
    {
      "cell_type": "code",
      "source": [
        "# Importamos las librerías necesarias para trabajar con estadísticas.\n",
        "from scipy import stats\n",
        "import numpy as np\n",
        "\n",
        "# Creamos un conjunto aleatorio de 10000 enteros distribuidos normalmente.\n",
        "# Nuestro conjunto aleatorio tendra media 0 y desviación estándar de 50.\n",
        "nums = np.random.normal(0, 50, 10000).astype(int)\n",
        "\n",
        "# Importamos matplotlib. Esta librería nos permitirá generar gráficas.\n",
        "import matplotlib.pyplot as plt\n",
        "\n",
        "# Creamos un histograma para visualizar nuestro conjunto de datos aleatorios. \n",
        "f, ax1 = plt.subplots()\n",
        "\n",
        "# el argumento 'bins' nos permite establecer el tamaño de cada clase.\n",
        "ax1.hist(nums, bins='auto')\n",
        "ax1.set_title('Densidad de Probabilidad (datos aleatorios)')\n",
        "plt.tight_layout()\n",
        "\n",
        "# Ahora prueba modificando la media y la desviación estándar de la distribución."
      ],
      "metadata": {
        "colab": {
          "base_uri": "https://localhost:8080/",
          "height": 297
        },
        "id": "LW2wWdvzYjO8",
        "outputId": "2b924f41-9a1a-4ca1-f11e-e94ed12057bb"
      },
      "execution_count": null,
      "outputs": [
        {
          "output_type": "display_data",
          "data": {
            "text/plain": [
              "<Figure size 432x288 with 1 Axes>"
            ],
            "image/png": "[encoded data removed]"
          },
          "metadata": {
            "needs_background": "light"
          }
        }
      ]
    },
    {
      "cell_type": "markdown",
      "source": [
        "### Media, moda y mediana\n"
      ],
      "metadata": {
        "id": "wtf27iciehLO"
      }
    },
    {
      "cell_type": "code",
      "source": [
        "# 'np.sort' Ordena los datos de menor a mayor\n",
        "print(np.sort(nums))\n",
        "\n",
        "# 'np.mean' Calcula la media de los datos.\n",
        "print(\"La media es: \", np.mean(nums))\n",
        "\n",
        "# 'stats.mode' Calcula la moda de los datos.\n",
        "# Nos dice el valor de la moda y cuántas veces se repite el dato.\n",
        "print(\"La moda es: \", stats.mode(nums))\n",
        "\n",
        "# 'np.median' Calcula la mediana de los datos.\n",
        "print(\"La mediana es: \", np.median(nums))\n",
        "\n",
        "# Al ser una distribución normal; media, moda y mediana deberán ser la iguales.\n",
        "# Se comprueba que se trata de una distribución simétrica."
      ],
      "metadata": {
        "colab": {
          "base_uri": "https://localhost:8080/"
        },
        "id": "7uY0TQ16eJTM",
        "outputId": "6408d0bb-ca64-424f-ab1e-85d9a6167f20"
      },
      "execution_count": null,
      "outputs": [
        {
          "output_type": "stream",
          "name": "stdout",
          "text": [
            "[-216 -178 -178 ...  163  171  175]\n",
            "La media es:  0.1248\n",
            "La moda es:  ModeResult(mode=array([0]), count=array([152]))\n",
            "La mediana es:  0.0\n"
          ]
        }
      ]
    },
    {
      "cell_type": "markdown",
      "source": [
        "![picture](/content/drive/MyDrive/Est1_images/media_eq.png)"
      ],
      "metadata": {
        "id": "8jHEAHzdLNY-"
      }
    },
    {
      "cell_type": "markdown",
      "source": [
        "# Medidas de dispersión\n",
        "Las medidas de variabilidad o medidas de dispersión, nos ayudan a analizar la dispersión de los datos dentro del conjunto. No basta con conocer la forma en que se agrupan los datos, también es necesario conocer cómo se distribuyen. Aún si conocemos la media y la mediana, pueden llegar a existir datos extremos que hacen que la distribución tenga una varianza grande. Las medidas de dispersión nos ayudan a describir e interpretar esta característica al darnos más información acerca de la forma y dispersión del conjunto de datos.\n",
        "### Rango:\n",
        "El rango es una de las medidas más simples de variabilidad. El rango se calcula restando el valor más bajo dentro del conjunto de datos al valor más alto del mismo conjunto."
      ],
      "metadata": {
        "id": "LF7qlXKhga8D"
      }
    },
    {
      "cell_type": "code",
      "source": [
        "# 'max' nos indica el valor más alto en nuestros datos.\n",
        "max_nums = max(nums)\n",
        "\n",
        "# 'min' nos dice cuál es el valor más bajo del conunto.\n",
        "min_nums = min(nums)\n",
        "\n",
        "# Definimos el rango como la resta de ambos valores.\n",
        "range_nums = max_nums-min_nums\n",
        "print(max_nums)\n",
        "print(min_nums)\n",
        "print(\"El rango es: \", range_nums)"
      ],
      "metadata": {
        "colab": {
          "base_uri": "https://localhost:8080/"
        },
        "id": "tZE501aAzL3K",
        "outputId": "9e3ab5f8-ea3c-448f-8bac-e63ef3128c1a"
      },
      "execution_count": null,
      "outputs": [
        {
          "output_type": "stream",
          "name": "stdout",
          "text": [
            "175\n",
            "-216\n",
            "El rango es:  391\n"
          ]
        }
      ]
    },
    {
      "cell_type": "markdown",
      "source": [
        "### Desviación estándar\n",
        "La desviación estándar es una de las medidas de dispersión más utilizadas, nos dice se desvían los datos de un valor típico. La desviación estándar nos permite interpretar qué tanto difieren los datos de su media.\n",
        "Una de las ventajas de usar la desviación estándar como medida de dispersión es que nos facilita su interpretación ya que se encuentra establecida en las mismas unidades que el conjunto original de datos."
      ],
      "metadata": {
        "id": "bdRkHKdkzydb"
      }
    },
    {
      "cell_type": "code",
      "source": [
        "# 'np.std' nos permite calcular la desviación estándar\n",
        "print(np.std(nums))"
      ],
      "metadata": {
        "colab": {
          "base_uri": "https://localhost:8080/"
        },
        "id": "rcsEnowh0kIP",
        "outputId": "2c6ea579-d28c-4e82-94fa-9e304d27207a"
      },
      "execution_count": null,
      "outputs": [
        {
          "output_type": "stream",
          "name": "stdout",
          "text": [
            "49.90946282860596\n"
          ]
        }
      ]
    },
    {
      "cell_type": "markdown",
      "source": [
        "### Varianza\n",
        "La varianza y la desviación estándar son medidas que se encuentran estrechamente asociadas. De hecho, se debe encontrar la varianza antes de poder encontrar la desviacion estándar. <p>\n",
        "La desviación estándar no es otra cosa que la raíz cuadarada de la varianza. Sacar la raíz cuadrada de la varianza nos permite interpretar nuestros datos en las unidades originales."
      ],
      "metadata": {
        "id": "iLzzGiQlsz1N"
      }
    },
    {
      "cell_type": "code",
      "source": [
        "print(np.var(nums))"
      ],
      "metadata": {
        "colab": {
          "base_uri": "https://localhost:8080/"
        },
        "id": "vU3VrlAjvVPJ",
        "outputId": "3fa7ffbc-f400-446d-bd95-7f6987e42de7"
      },
      "execution_count": null,
      "outputs": [
        {
          "output_type": "stream",
          "name": "stdout",
          "text": [
            "2490.9544798399997\n"
          ]
        }
      ]
    },
    {
      "cell_type": "markdown",
      "source": [
        "### Sesgo, Asimetría y Curtosis\n",
        "El coeficiente de asimetría es una medida que nos permite determinar qué tan sesgada es la distribución de nuestros datos, mientras que el coeficiente de curtosis mide qué tan pesadas son las colas de la distribución comparadas con una distribución normal.\n",
        "\n"
      ],
      "metadata": {
        "id": "R6ugN-jWvfbr"
      }
    },
    {
      "cell_type": "code",
      "source": [
        "import numpy as np\n",
        "\n",
        "# Para calcular el coeficiente de asimetría y curtosis.\n",
        "from scipy.stats import kurtosis, skew, skewnorm\n",
        "\n",
        "# Establecemos nuestros parámetros\n",
        "n = 10000\n",
        "start = 0\n",
        "width = 20\n",
        "a = 0\n",
        "\n",
        "# Creamos una distribución normal.\n",
        "data_normal = skewnorm.rvs(size=n, a=a, loc = start, scale=width)\n",
        "\n",
        "a = 8\n",
        "data_skew = skewnorm.rvs(size=n, a=a,loc = start, scale=width)\n",
        "\n",
        "import matplotlib.pyplot as plt\n",
        "\n",
        "f, (ax1, ax2) = plt.subplots(1, 2)\n",
        "ax1.hist(data_normal, bins='auto')\n",
        "ax1.set_title('Densidad de probabilidad (aleatoria)')\n",
        "ax2.hist(data_skew, bins='auto')\n",
        "ax2.set_title('Datos sesgados')\n",
        "plt.tight_layout()\n",
        "\n",
        "# Medidas para la distribución normal\n",
        "sig_1 = data_normal\n",
        "print(\"Media : \", np.mean(sig_1))\n",
        "print(\"Desviación estándar : \", np.std(sig_1))\n",
        "print(\"Varianza  : \", np.var(sig_1))\n",
        "print(\"Sesgo : \", skew(sig_1))\n",
        "print(\"Curtosis : \", kurtosis(sig_1))\n",
        "\n",
        "# Medidas para la dsitribución sesgada.\n",
        "sig_2 = data_skew\n",
        "print(\"Media 2: \", np.mean(sig_2))\n",
        "print(\"Desviación estándar 2: \", np.std(sig_2))\n",
        "print(\"Varianza 2 : \", np.var(sig_2))\n",
        "print(\"Sesgo 2 : \", skew(sig_2))\n",
        "print(\"Curtosis 2 : \", kurtosis(sig_2))"
      ],
      "metadata": {
        "colab": {
          "base_uri": "https://localhost:8080/",
          "height": 471
        },
        "id": "OGxbBaS8wVE9",
        "outputId": "cdc9604a-f989-449a-dbcf-9ee626ab8067"
      },
      "execution_count": null,
      "outputs": [
        {
          "output_type": "stream",
          "name": "stdout",
          "text": [
            "Media :  0.15046369947534838\n",
            "Desviación estándar :  19.731419201539694\n",
            "Varianza  :  389.3289037068893\n",
            "Sesgo :  0.007438514941213386\n",
            "Curtosis :  0.07070784998289215\n",
            "Media 2:  15.805414190852776\n",
            "Desviación estándar 2:  12.4094681552372\n",
            "Varianza 2 :  153.99489989584615\n",
            "Sesgo 2 :  0.9696095956140871\n",
            "Curtosis 2 :  0.9120280348320211\n"
          ]
        },
        {
          "output_type": "display_data",
          "data": {
            "text/plain": [
              "<Figure size 432x288 with 2 Axes>"
            ],
            "image/png": "[encoded data removed]"
          },
          "metadata": {
            "needs_background": "light"
          }
        }
      ]
    },
    {
      "cell_type": "markdown",
      "source": [
        "# Correlación y regresión\n",
        "Para calcular una correlación de Pearson debemos considerar los siguientes supuestos:<p>\n",
        "- Nivel de medición de nuestra variable (nominal, ordinal, intervalos, razón)\n",
        "- Existencia de pares relacionados\n",
        "- Ausencia de observaciones atípicas\n",
        "- Normalidad de las variables\n",
        "- Linearidad\n",
        "- Homocedasticidad <p><p>\n",
        "## Nivel de medición de cada variable <p> \n",
        "Para una correlación de Pearson cada variable debe ser continua. En caso de que una o ambas variables son ordinales, debemos usar el coeficiente de correlación de Spearman. <p>\n",
        "## Existencia de pares relacionados (pares de variables) <p>\n",
        "Cada observación deberá tener un par de valores. Ejemplo: Si la correlación se refiere a las variables \"educación\" e \"ingreso\", cada observación (individuo) en nuestros datos deberá tener un valor para ambas variables. <p>\n",
        "## Ausencia de datos atípicos <p>\n",
        "Las observaciones atípicas pueden sesgar los resultados de nuestra correlación al mover demasiado la línea de ajuste hacia un lado u otro. Como regla general, una observación atípica se encontrará a 3.29 desviaciones estándar de la media. <p>\n",
        "## Linearidad y Homocedasticidad <p>\n",
        "De manera sencilla, podemos decir que este supuesto se refiere a la forma que toman nuestros valores en una gráfica de dispersión. Para suponer lineraidad, debemos ser capaces de establecer una relación en línea recta entre las variables. Si trazamos una línea de izquierda a derecha entre todos los puntos, esta línea debe ser recta, no curva. La homocedasticidad se refiere a la distancia que existe entre los puntos de nuestra gráfica y esa línea recta, La forma de la gráfica de dispersión debe ser como un \"tubo\", en caso de que los puntos de la dispersión tengan forma de \"cono\", podemos sospechar que no se cumple la condición de homocedasticidad."
      ],
      "metadata": {
        "id": "oXVyq9-BMPuF"
      }
    },
    {
      "cell_type": "code",
      "source": [
        "import pandas as pd\n",
        "import matplotlib.pyplot as plt\n",
        "\n",
        "cartera = \"https://raw.githubusercontent.com/d-triana/EstadisticaPython/main/cartera.csv\"\n",
        "df = pd.read_csv(cartera).values\n",
        "\n",
        "# Creamos una gráfica de dispersión.\n",
        "plt.scatter(df[:,1],df[:,5])\n",
        "plt.xlabel('A pagar vencido', size=18)\n",
        "plt.ylabel('Cuentas en cartera vencida', size=18);"
      ],
      "metadata": {
        "colab": {
          "base_uri": "https://localhost:8080/",
          "height": 303
        },
        "id": "Vv8cNkRARWgX",
        "outputId": "be4783c0-1fba-4deb-a6be-dc83e3a27d74"
      },
      "execution_count": null,
      "outputs": [
        {
          "output_type": "display_data",
          "data": {
            "text/plain": [
              "<Figure size 432x288 with 1 Axes>"
            ],
            "image/png": "[encoded data removed]"
          },
          "metadata": {
            "needs_background": "light"
          }
        }
      ]
    },
    {
      "cell_type": "markdown",
      "source": [
        "Una gráfica de dispersión es una visulaización de datos en dos dimensiones que muestra la relación entre dos variables numéricas. `Matplotlib` es la librería de Python que nos permite crear gráficas bidimensionales. La función para crear una gráfica de dispersión es `matplotlib.pyplot.scatter()`. Siempre se recomienda crear estas gráficas con los datos en bruto."
      ],
      "metadata": {
        "id": "iN3oYeAjWHhK"
      }
    },
    {
      "cell_type": "markdown",
      "source": [
        "# Coeficiente de correlación de Pearson <p>\n",
        "La correlación mide el grado en el que dos variables se encuetran relacionadas entre sí. El Coeficiente de Correlación de Pearson se usa para medir la fuerza y la dirección de la relación lineal entre dos variables. Este coeficiente se calcula al dividir el producto de las covarianzas de las variables entre el producto de cada una de las desviaciones estándar. <p>\n",
        "El coeficiente de correlación de Pearson siempre toma valores entre -1 y +1, donde -1 indica una correlación lineal negativa perfecta, mientras que un coeficiente de +1 indica una correlación lneal positiva perfecta, un valor de 0 indica que no existe correlación lineal entre las variables. <p>\n",
        "Podemos obtener un coeficiente de correlación utilizando el método `.corrcoef()`. Con este método se calculará una correlación de Pearson por default; sin embargo, es posible calcular otro tipo de coeficientes de correlación como el de Spearman o Kendall."
      ],
      "metadata": {
        "id": "pZBDCkxHXx2U"
      }
    },
    {
      "cell_type": "code",
      "source": [
        "# Calculamos un coeficiente de correlación de Pearson\n",
        "np.corrcoef(df[:,1].astype(float), df[:5], rowvar=False)"
      ],
      "metadata": {
        "colab": {
          "base_uri": "https://localhost:8080/",
          "height": 432
        },
        "id": "VHp6ApV3W_l0",
        "outputId": "8d363d5a-edac-4bcb-b902-fb3c5a31d18f"
      },
      "execution_count": null,
      "outputs": [
        {
          "output_type": "error",
          "ename": "ValueError",
          "evalue": "ignored",
          "traceback": [
            "\u001b[0;31m---------------------------------------------------------------------------\u001b[0m",
            "\u001b[0;31mValueError\u001b[0m                                Traceback (most recent call last)",
            "\u001b[0;32m<ipython-input-30-90cf3ae384b2>\u001b[0m in \u001b[0;36m<module>\u001b[0;34m\u001b[0m\n\u001b[1;32m      1\u001b[0m \u001b[0;31m# Calculamos un coeficiente de correlación de Pearson\u001b[0m\u001b[0;34m\u001b[0m\u001b[0;34m\u001b[0m\u001b[0;34m\u001b[0m\u001b[0m\n\u001b[0;32m----> 2\u001b[0;31m \u001b[0mnp\u001b[0m\u001b[0;34m.\u001b[0m\u001b[0mcorrcoef\u001b[0m\u001b[0;34m(\u001b[0m\u001b[0mdf\u001b[0m\u001b[0;34m[\u001b[0m\u001b[0;34m:\u001b[0m\u001b[0;34m,\u001b[0m\u001b[0;36m1\u001b[0m\u001b[0;34m]\u001b[0m\u001b[0;34m.\u001b[0m\u001b[0mastype\u001b[0m\u001b[0;34m(\u001b[0m\u001b[0mfloat\u001b[0m\u001b[0;34m)\u001b[0m\u001b[0;34m,\u001b[0m \u001b[0mdf\u001b[0m\u001b[0;34m[\u001b[0m\u001b[0;34m:\u001b[0m\u001b[0;36m5\u001b[0m\u001b[0;34m]\u001b[0m\u001b[0;34m,\u001b[0m \u001b[0mrowvar\u001b[0m\u001b[0;34m=\u001b[0m\u001b[0;32mFalse\u001b[0m\u001b[0;34m)\u001b[0m\u001b[0;34m\u001b[0m\u001b[0;34m\u001b[0m\u001b[0m\n\u001b[0m",
            "\u001b[0;32m<__array_function__ internals>\u001b[0m in \u001b[0;36mcorrcoef\u001b[0;34m(*args, **kwargs)\u001b[0m\n",
            "\u001b[0;32m/usr/local/lib/python3.7/dist-packages/numpy/lib/function_base.py\u001b[0m in \u001b[0;36mcorrcoef\u001b[0;34m(x, y, rowvar, bias, ddof, dtype)\u001b[0m\n\u001b[1;32m   2681\u001b[0m         warnings.warn('bias and ddof have no effect and are deprecated',\n\u001b[1;32m   2682\u001b[0m                       DeprecationWarning, stacklevel=3)\n\u001b[0;32m-> 2683\u001b[0;31m     \u001b[0mc\u001b[0m \u001b[0;34m=\u001b[0m \u001b[0mcov\u001b[0m\u001b[0;34m(\u001b[0m\u001b[0mx\u001b[0m\u001b[0;34m,\u001b[0m \u001b[0my\u001b[0m\u001b[0;34m,\u001b[0m \u001b[0mrowvar\u001b[0m\u001b[0;34m,\u001b[0m \u001b[0mdtype\u001b[0m\u001b[0;34m=\u001b[0m\u001b[0mdtype\u001b[0m\u001b[0;34m)\u001b[0m\u001b[0;34m\u001b[0m\u001b[0;34m\u001b[0m\u001b[0m\n\u001b[0m\u001b[1;32m   2684\u001b[0m     \u001b[0;32mtry\u001b[0m\u001b[0;34m:\u001b[0m\u001b[0;34m\u001b[0m\u001b[0;34m\u001b[0m\u001b[0m\n\u001b[1;32m   2685\u001b[0m         \u001b[0md\u001b[0m \u001b[0;34m=\u001b[0m \u001b[0mdiag\u001b[0m\u001b[0;34m(\u001b[0m\u001b[0mc\u001b[0m\u001b[0;34m)\u001b[0m\u001b[0;34m\u001b[0m\u001b[0;34m\u001b[0m\u001b[0m\n",
            "\u001b[0;32m<__array_function__ internals>\u001b[0m in \u001b[0;36mcov\u001b[0;34m(*args, **kwargs)\u001b[0m\n",
            "\u001b[0;32m/usr/local/lib/python3.7/dist-packages/numpy/lib/function_base.py\u001b[0m in \u001b[0;36mcov\u001b[0;34m(m, y, rowvar, bias, ddof, fweights, aweights, dtype)\u001b[0m\n\u001b[1;32m   2475\u001b[0m         \u001b[0;32mif\u001b[0m \u001b[0;32mnot\u001b[0m \u001b[0mrowvar\u001b[0m \u001b[0;32mand\u001b[0m \u001b[0my\u001b[0m\u001b[0;34m.\u001b[0m\u001b[0mshape\u001b[0m\u001b[0;34m[\u001b[0m\u001b[0;36m0\u001b[0m\u001b[0;34m]\u001b[0m \u001b[0;34m!=\u001b[0m \u001b[0;36m1\u001b[0m\u001b[0;34m:\u001b[0m\u001b[0;34m\u001b[0m\u001b[0;34m\u001b[0m\u001b[0m\n\u001b[1;32m   2476\u001b[0m             \u001b[0my\u001b[0m \u001b[0;34m=\u001b[0m \u001b[0my\u001b[0m\u001b[0;34m.\u001b[0m\u001b[0mT\u001b[0m\u001b[0;34m\u001b[0m\u001b[0;34m\u001b[0m\u001b[0m\n\u001b[0;32m-> 2477\u001b[0;31m         \u001b[0mX\u001b[0m \u001b[0;34m=\u001b[0m \u001b[0mnp\u001b[0m\u001b[0;34m.\u001b[0m\u001b[0mconcatenate\u001b[0m\u001b[0;34m(\u001b[0m\u001b[0;34m(\u001b[0m\u001b[0mX\u001b[0m\u001b[0;34m,\u001b[0m \u001b[0my\u001b[0m\u001b[0;34m)\u001b[0m\u001b[0;34m,\u001b[0m \u001b[0maxis\u001b[0m\u001b[0;34m=\u001b[0m\u001b[0;36m0\u001b[0m\u001b[0;34m)\u001b[0m\u001b[0;34m\u001b[0m\u001b[0;34m\u001b[0m\u001b[0m\n\u001b[0m\u001b[1;32m   2478\u001b[0m \u001b[0;34m\u001b[0m\u001b[0m\n\u001b[1;32m   2479\u001b[0m     \u001b[0;32mif\u001b[0m \u001b[0mddof\u001b[0m \u001b[0;32mis\u001b[0m \u001b[0;32mNone\u001b[0m\u001b[0;34m:\u001b[0m\u001b[0;34m\u001b[0m\u001b[0;34m\u001b[0m\u001b[0m\n",
            "\u001b[0;32m<__array_function__ internals>\u001b[0m in \u001b[0;36mconcatenate\u001b[0;34m(*args, **kwargs)\u001b[0m\n",
            "\u001b[0;31mValueError\u001b[0m: all the input array dimensions for the concatenation axis must match exactly, but along dimension 1, the array at index 0 has size 104 and the array at index 1 has size 5"
          ]
        }
      ]
    },
    {
      "cell_type": "code",
      "source": [],
      "metadata": {
        "id": "ztIugH00bWSs"
      },
      "execution_count": null,
      "outputs": []
    }
  ]
}